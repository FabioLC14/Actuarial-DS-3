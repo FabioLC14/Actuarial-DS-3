{
  "nbformat": 4,
  "nbformat_minor": 0,
  "metadata": {
    "colab": {
      "name": "module3-lab2-dash.ipynb",
      "provenance": [],
      "collapsed_sections": []
    },
    "kernelspec": {
      "name": "python3",
      "display_name": "Python 3"
    },
    "language_info": {
      "name": "python"
    }
  },
  "cells": [
    {
      "cell_type": "markdown",
      "source": [
        "<center> <h1> <span style=\"color:black\"> IA|BE Data Science Certificate - Module 3 - Computer lab 2  </h1> </center>\n",
        "\n",
        "\n",
        "\n",
        "<center> <h2> <span style=\"color:red\"> Building Data Visualization Applications with Plotly & Dash</h1> </center>"
      ],
      "metadata": {
        "id": "gji_SAXBLMB0"
      }
    },
    {
      "cell_type": "markdown",
      "source": [
        "# Introduction"
      ],
      "metadata": {
        "id": "2gHATgB_QQpL"
      }
    },
    {
      "cell_type": "markdown",
      "source": [
        "Business Intelligence (BI) dashboards are a very neat tool to extract insights from your data. This is almost always a good sanity check before jumping into the modeling part, both to make sure that you understand your data and to validate that there are no unusual things hidden. This workshop intends to show how you can create your own custom BI tool in Python from scratch using Plotly & Dash.\n",
        "\n",
        "[Plotly](https://plotly.com/graphing-libraries/) is an open-source graphing library to make interactive charts and maps for Python, R, Julia, Javascript, ggplot2, F# and MATLAB. We will be using the [Python](https://plotly.com/python/) library.\n",
        "\n",
        "[Dash](https://dash.plotly.com) provides a low-code framework for rapidly building data apps in Python, R, Julia, and F#. Dash is written on top of Plotly, making it an ideal candidate for building and deploying data apps with customized user interfaces.\n",
        "\n",
        "[Jupyter Dash](https://github.com/plotly/jupyter-dash) is a library that makes it easy to develop Plotly Dash apps from Jupyter Notebook and JupyterLab environments."
      ],
      "metadata": {
        "id": "36URlShTQV2H"
      }
    },
    {
      "cell_type": "markdown",
      "source": [
        "# Technical setup"
      ],
      "metadata": {
        "id": "zGUp54SIMQiS"
      }
    },
    {
      "cell_type": "markdown",
      "source": [
        "We first install the Jupyter Dash library via pip. The -q option quiets the output to keep the output clear."
      ],
      "metadata": {
        "id": "cffy4tpoNLdx"
      }
    },
    {
      "cell_type": "code",
      "source": [
        "!pip install -q jupyter-dash"
      ],
      "metadata": {
        "id": "NVav2ElZJbDn"
      },
      "execution_count": null,
      "outputs": []
    },
    {
      "cell_type": "markdown",
      "source": [
        "Next, we import the libraries that we will use to create our interactive BI dashboard."
      ],
      "metadata": {
        "id": "IA31SyhmJ8ky"
      }
    },
    {
      "cell_type": "code",
      "source": [
        "import pandas as pd\n",
        "import plotly.express as px\n",
        "from jupyter_dash import JupyterDash\n",
        "from dash import dcc, html\n",
        "from dash.dependencies import Input, Output"
      ],
      "metadata": {
        "id": "PPyPNVNwJH6z"
      },
      "execution_count": null,
      "outputs": []
    },
    {
      "cell_type": "markdown",
      "source": [
        "*Important note: when not working in a Notebook environment (.ipynb) but in a Python script (.py), simply replace the jupyter_dash.JupyterDash class with the standard dash.Dash class.*"
      ],
      "metadata": {
        "id": "fmQ7M6xRW6-h"
      }
    },
    {
      "cell_type": "markdown",
      "source": [
        "# Read data"
      ],
      "metadata": {
        "id": "hnUDy_AlXpcB"
      }
    },
    {
      "cell_type": "markdown",
      "source": [
        "We will create a BI dashboard for the Ames housing data, se we first need to read our CSV data as a Pandas DataFrame."
      ],
      "metadata": {
        "id": "jzsvJvfWYmxQ"
      }
    },
    {
      "cell_type": "code",
      "source": [
        "pd_ames = pd.read_csv(\"https://katrienantonio.github.io/hands-on-machine-learning-R-module-1/data/ames_python.csv\")\n",
        "pd_ames = pd_ames.drop(columns=[\"Unnamed: 0\"])"
      ],
      "metadata": {
        "id": "kYYx7p93WmxS"
      },
      "execution_count": null,
      "outputs": []
    },
    {
      "cell_type": "markdown",
      "source": [
        "After succesfully loading our data, we can inspect the first 10 rows with the Pandas `head` method.\n",
        "\n"
      ],
      "metadata": {
        "id": "60EL2zPBdcgl"
      }
    },
    {
      "cell_type": "code",
      "source": [
        "pd_ames.head(10)"
      ],
      "metadata": {
        "id": "6ZZVozEFWmq1"
      },
      "execution_count": null,
      "outputs": []
    },
    {
      "cell_type": "markdown",
      "source": [
        "Let's print a list of all the column names to know which info we have available."
      ],
      "metadata": {
        "id": "f8reZAJ8d4ku"
      }
    },
    {
      "cell_type": "code",
      "source": [
        "pd_ames.columns"
      ],
      "metadata": {
        "id": "SRTf4i3SWmh7"
      },
      "execution_count": null,
      "outputs": []
    },
    {
      "cell_type": "markdown",
      "source": [
        "# Interactive graphs with Plotly"
      ],
      "metadata": {
        "id": "6Eu7UUcpeFv7"
      }
    },
    {
      "cell_type": "markdown",
      "source": [
        "We will now create some interactive data visualization graphs to show the power of Plotly. A nice overview of available graph types with examples can be found [here](https://plotly.com/python/)."
      ],
      "metadata": {
        "id": "CWDyRDRgeJma"
      }
    },
    {
      "cell_type": "markdown",
      "source": [
        "## Scatterplot for continuous features"
      ],
      "metadata": {
        "id": "a0s-uYQSeJbh"
      }
    },
    {
      "cell_type": "markdown",
      "source": [
        "We create an interactive scatterplot for the sale price in function of the lot area, where the color and size of the points are determined by the lot shape and number of full baths respectively. We also add the house style as info to show when hovering over the points."
      ],
      "metadata": {
        "id": "PIlWs6z1h3oB"
      }
    },
    {
      "cell_type": "code",
      "source": [
        "fig_scatter = px.scatter(pd_ames, x=\"Lot_Area\", y=\"Sale_Price\",\n",
        "                         color=\"Lot_Shape\", size=\"Full_Bath\", hover_data=[\"House_Style\"],\n",
        "                         opacity=0.5, log_x=False, log_y=False)\n",
        "fig_scatter.show()"
      ],
      "metadata": {
        "id": "LLGVaIczYlRx"
      },
      "execution_count": null,
      "outputs": []
    },
    {
      "cell_type": "markdown",
      "source": [
        "## Boxplot for categorical features"
      ],
      "metadata": {
        "id": "e9zUDAM-jK7P"
      }
    },
    {
      "cell_type": "markdown",
      "source": [
        "We create an interactive boxplot for the sale price in function of the overall house quality, ordered from low to high quality."
      ],
      "metadata": {
        "id": "3lLSLNZWjKwU"
      }
    },
    {
      "cell_type": "code",
      "source": [
        "fig_box = px.box(pd_ames, x=\"Overall_Qual\", y=\"Sale_Price\",\n",
        "                 category_orders = {\"Overall_Qual\": [\"Very_Poor\",\"Poor\",\"Fair\",\"Below_Average\",\"Average\",\"Above_Average\",\"Good\",\"Very_Good\",\"Excellent\",\"Very_Excellent\"]})\n",
        "fig_box.show()"
      ],
      "metadata": {
        "id": "eCxJZTojYlNb"
      },
      "execution_count": null,
      "outputs": []
    },
    {
      "cell_type": "markdown",
      "source": [
        "## Map for spatial features"
      ],
      "metadata": {
        "id": "ZEzYTZXHo9j7"
      }
    },
    {
      "cell_type": "markdown",
      "source": [
        "We create an interactive map for the sale price in function of the latitude and longitude coordinates of the house location."
      ],
      "metadata": {
        "id": "ZeVbsLcNo9Yo"
      }
    },
    {
      "cell_type": "code",
      "source": [
        "fig_map = px.density_mapbox(pd_ames, lat=\"Latitude\", lon=\"Longitude\", z=\"Sale_Price\", radius=5,\n",
        "                            center=dict(lat=pd_ames.Latitude.mean(), lon=pd_ames.Longitude.mean()), zoom=11,\n",
        "                            mapbox_style=\"open-street-map\", hover_data=[\"Neighborhood\"])\n",
        "fig_map.show()"
      ],
      "metadata": {
        "id": "fKJsn0MBYlGq"
      },
      "execution_count": null,
      "outputs": []
    },
    {
      "cell_type": "markdown",
      "source": [
        "## Your custom graph"
      ],
      "metadata": {
        "id": "LD1dDfxFxM94"
      }
    },
    {
      "cell_type": "markdown",
      "source": [
        "Now it is your turn to experiment with Plotly and create your flashy custom graph. You can find some inspiration [here](https://plotly.com/python/). Have fun!"
      ],
      "metadata": {
        "id": "yRR2XtG-xMw5"
      }
    },
    {
      "cell_type": "code",
      "source": [
        "# Your custom graph"
      ],
      "metadata": {
        "id": "a003qe1MnT7R"
      },
      "execution_count": null,
      "outputs": []
    },
    {
      "cell_type": "markdown",
      "source": [
        "# Data Viz application with Jupyter Dash"
      ],
      "metadata": {
        "id": "crAtDT4Kxgqm"
      }
    },
    {
      "cell_type": "markdown",
      "source": [
        "We will now guide you through the steps to create a dashboard tool with Jupyter Dash. We will need to perform the following steps:\n",
        "\n",
        "* Initialize the app\n",
        "* Define the layout of the app\n",
        "* Add functionality to the app via *callback functions*\n",
        "* Run the app"
      ],
      "metadata": {
        "id": "9oQ_4Xymx4Or"
      }
    },
    {
      "cell_type": "markdown",
      "source": [
        "## Initialize the app"
      ],
      "metadata": {
        "id": "VyPRvCmwx_47"
      }
    },
    {
      "cell_type": "markdown",
      "source": [
        "We initialize the app by creating an instance object of the `jupyter_dash.JupyterDash` class."
      ],
      "metadata": {
        "id": "mCzPUOXHyD18"
      }
    },
    {
      "cell_type": "code",
      "source": [
        "# App instance\n",
        "app = JupyterDash(__name__)"
      ],
      "metadata": {
        "id": "mLGjasSeHSLI"
      },
      "execution_count": null,
      "outputs": []
    },
    {
      "cell_type": "markdown",
      "source": [
        "What is `__name__`? This is a special variable in Python, set by the interpreter at execution time. If the source file is executed as the main program, the `__name__` variable gets the value \"\\_\\_main\\_\\_\". If this file is imported, `__name__` will be set to the imported module’s name."
      ],
      "metadata": {
        "id": "gmsmTUqLHmK2"
      }
    },
    {
      "cell_type": "code",
      "source": [
        "print(__name__)"
      ],
      "metadata": {
        "id": "X1O-yaP6yEcJ"
      },
      "execution_count": null,
      "outputs": []
    },
    {
      "cell_type": "markdown",
      "source": [
        "## Layout of the app"
      ],
      "metadata": {
        "id": "A2qA47F7x_w5"
      }
    },
    {
      "cell_type": "markdown",
      "source": [
        "We now specify the layout of our Dash app via the following HTML Elements and Dash Core Components:\n",
        "\n",
        "* html.Div: HTML division tag which forms a container for HTML elements\n",
        "* html.H1: HTML header tag to create a first-level header element\n",
        "* dcc.Dropdown: Dash core component that holds a dropdown element\n",
        "* dcc.Graph: Dash core component that holds a graphical element\n",
        "\n",
        "More html elements and dash core components can be found in the Dash [documentation](https://dash.plotly.com).\n",
        "\n"
      ],
      "metadata": {
        "id": "kxIh37_gx_n9"
      }
    },
    {
      "cell_type": "code",
      "source": [
        "# Example app layout\n",
        "app.layout = html.Div(children=[\n",
        "                                html.H1(children='Hello Dash'),\n",
        "                                html.Div(children='Choose a color for your scatterplot:\\n'),\n",
        "                                dcc.Dropdown(\n",
        "                                    id=\"toy-dropdown\",\n",
        "                                    options=[\"blue\",\"green\",\"red\",\"purple\"],\n",
        "                                    value=\"blue\",\n",
        "                                    clearable=True\n",
        "                                  ),\n",
        "                                dcc.Graph(\n",
        "                                    id=\"toy-graph\",\n",
        "                                    figure=px.scatter(pd_ames, x=\"Lot_Area\", y=\"Sale_Price\")\n",
        "                                  )\n",
        "                                ])"
      ],
      "metadata": {
        "id": "ZnEYUbhDnT4u"
      },
      "execution_count": null,
      "outputs": []
    },
    {
      "cell_type": "markdown",
      "source": [
        "## Running the app"
      ],
      "metadata": {
        "id": "Fv-YDiLnyIZ3"
      }
    },
    {
      "cell_type": "markdown",
      "source": [
        "We can now run our app via the `run_server` method while specifying a host and port number. Running in `mode = inline` makes our app appear in this notebook."
      ],
      "metadata": {
        "id": "a63M8DYFyIL5"
      }
    },
    {
      "cell_type": "code",
      "source": [
        "# Run the app\n",
        "app.run_server(mode='inline',host=\"0.0.0.0\",port=1004)"
      ],
      "metadata": {
        "id": "B2Y-Fuz1nT2S"
      },
      "execution_count": null,
      "outputs": []
    },
    {
      "cell_type": "markdown",
      "source": [
        "This looks neat! However, you might have noticed that changing the dropdown color did not change the actual scatterplot color. Why not? Well we actually have not told our app what to do when we change the dropdown value."
      ],
      "metadata": {
        "id": "B0kLhY3IKvGY"
      }
    },
    {
      "cell_type": "markdown",
      "source": [
        "## Functionality of the app"
      ],
      "metadata": {
        "id": "HTEP1k6JyL-o"
      }
    },
    {
      "cell_type": "markdown",
      "source": [
        "To add functionality into our app, we need to include callback functions. The callback function specifies the functionality to be implemented in the app, where the function decorator defines the input/output dependencies within the app via the Dash core components. You can find some examples in the Dash [documentation](https://dash.plotly.com/basic-callbacks). \n",
        "\n",
        "We will now add the functionality to change the graph colors via the `update_figure()` function. The decorator of the function specifies that we take the `value` field of `toy-dropdown` as an input and send the output to the `figure` field of `toy-graph`. Notice that the figure argument is no longer specified in the `dcc.Graph` as this has now become a dynamic element instead of a static scatterplot."
      ],
      "metadata": {
        "id": "57qaFePIyLw6"
      }
    },
    {
      "cell_type": "code",
      "source": [
        "# App instance\n",
        "app = JupyterDash(__name__)\n",
        "\n",
        "# App layout\n",
        "app.layout = html.Div(children=[\n",
        "                                html.H1(children='Hello Dash'),\n",
        "                                html.Div(children='Choose a color for your scatterplot:\\n'),\n",
        "                                dcc.Dropdown(\n",
        "                                    id=\"toy-dropdown\",\n",
        "                                    options=[\"blue\",\"green\",\"red\",\"purple\"],\n",
        "                                    value=\"blue\",\n",
        "                                    clearable=True\n",
        "                                  ),\n",
        "                                dcc.Graph(\n",
        "                                    id=\"toy-graph\"\n",
        "                                    # Notice that the figure argument is no longer here\n",
        "                                  )\n",
        "                                ])\n",
        "\n",
        "\n",
        "# Define callback to update graph\n",
        "@app.callback(\n",
        "    Output('toy-graph', 'figure'),\n",
        "    [Input(\"toy-dropdown\", \"value\")]\n",
        ")\n",
        "def update_figure(color_value):\n",
        "    return px.scatter(pd_ames, x=\"Lot_Area\", y=\"Sale_Price\").update_traces(marker=dict(color=color_value))\n",
        "\n",
        "\n",
        "# Run the app\n",
        "app.run_server(mode='inline',host=\"0.0.0.0\",port=1004)"
      ],
      "metadata": {
        "id": "ziIwgg4hnTs_"
      },
      "execution_count": null,
      "outputs": []
    },
    {
      "cell_type": "markdown",
      "source": [
        "## An elaborate example"
      ],
      "metadata": {
        "id": "C8KhR7qbTESl"
      }
    },
    {
      "cell_type": "markdown",
      "source": [
        "You now know the basic functionality of creating Dash apps. The app below create more visualizations and functionality via callbacks. Can you link the resulting app elements to the source code?"
      ],
      "metadata": {
        "id": "XixCeHK5TEIe"
      }
    },
    {
      "cell_type": "code",
      "source": [
        "# App instance\n",
        "app = JupyterDash(__name__)\n",
        "\n",
        "# App layout\n",
        "app.layout = html.Div(children=[\n",
        "                                # App header title\n",
        "                                html.H1(children='Ames Housing Dashboard'),\n",
        "                                # Left side of the app screen\n",
        "                                html.Div(style={'width': '49%', 'display': 'inline-block'},\n",
        "                                         children=[\n",
        "                                                   # Text element\n",
        "                                                   'Choose the x-name and y-scale for a numeric feature scatterplot:\\n',\n",
        "                                                   # Dropdown component\n",
        "                                                   dcc.Dropdown(\n",
        "                                                       id=\"num-dropdown\",\n",
        "                                                       options=[\"Lot_Area\",\"Gr_Liv_Area\",\"Year_Built\"],\n",
        "                                                       value=\"Lot_Area\",\n",
        "                                                       clearable=False\n",
        "                                                       ),\n",
        "                                                   # Select component\n",
        "                                                   dcc.RadioItems(\n",
        "                                                       id='num-scale',\n",
        "                                                       options=['Linear', 'Log'],\n",
        "                                                       value='Linear',\n",
        "                                                       labelStyle={'display': 'inline-block'}\n",
        "                                                       ),\n",
        "                                                    # Graph component\n",
        "                                                    dcc.Graph(\n",
        "                                                        id=\"num-graph\"\n",
        "                                                        )]),\n",
        "                                # Right side of the app screen\n",
        "                                html.Div(style={'width': '49%', 'display': 'inline-block'},\n",
        "                                         children=[\n",
        "                                                   # Text element\n",
        "                                                   'Choose the x-name and y-scale for a categorical feature boxplot:\\n',\n",
        "                                                   # Dropdown component\n",
        "                                                   dcc.Dropdown(\n",
        "                                                       id=\"cat-dropdown\",\n",
        "                                                       options=[\"Overall_Qual\",\"Overall_Cond\",\"MS_Zoning\"],\n",
        "                                                       value=\"Overall_Qual\",\n",
        "                                                       clearable=False\n",
        "                                                       ),\n",
        "                                                   # Select component\n",
        "                                                   dcc.RadioItems(\n",
        "                                                       id='cat-scale',\n",
        "                                                       options=[{'label': i, 'value': i} for i in ['Linear', 'Log']],\n",
        "                                                       value='Linear',\n",
        "                                                       labelStyle={'display': 'inline-block'}\n",
        "                                                       ),\n",
        "                                                    # Graph component\n",
        "                                                    dcc.Graph(\n",
        "                                                        id=\"cat-graph\"\n",
        "                                                        )])\n",
        "                                \n",
        "                               \n",
        "                                ])\n",
        "\n",
        "# Callback function for numeric scatterplot\n",
        "@app.callback(\n",
        "    Output('num-graph', 'figure'),\n",
        "    [Input('num-dropdown', 'value'),\n",
        "     Input('num-scale', 'value')])\n",
        "def update_num_graph(num_feature, num_scale):\n",
        "  return px.scatter(pd_ames, x=num_feature, y=\"Sale_Price\", opacity=0.5, log_x=False, log_y=(num_scale=='Log'))\n",
        "\n",
        "# Callback function for catergorical boxplot\n",
        "@app.callback(\n",
        "    Output('cat-graph', 'figure'),\n",
        "    [Input('cat-dropdown', 'value'),\n",
        "     Input('cat-scale', 'value')])\n",
        "def update_cat_graph(cat_feature, cat_scale):\n",
        "  return px.box(pd_ames, x=cat_feature, y=\"Sale_Price\", log_x=False, log_y=(cat_scale=='Log'))\n",
        "    \n",
        "\n",
        "# Run the app\n",
        "app.run_server(mode='inline',host=\"0.0.0.0\",port=1004)"
      ],
      "metadata": {
        "id": "bQlGVlsvULKj",
        "collapsed": true
      },
      "execution_count": null,
      "outputs": []
    },
    {
      "cell_type": "markdown",
      "source": [
        "## Your custom app"
      ],
      "metadata": {
        "id": "c-a__lYCMMuY"
      }
    },
    {
      "cell_type": "markdown",
      "source": [
        "Now it's your time. Feel free to experiment by building on the example app or by creating a new Dash app from scratch. Have fun!"
      ],
      "metadata": {
        "id": "7ahDYfaUMTU7"
      }
    },
    {
      "cell_type": "code",
      "source": [
        "# Your custom Dash app"
      ],
      "metadata": {
        "id": "J7XCNvAhUKyK"
      },
      "execution_count": null,
      "outputs": []
    }
  ]
}