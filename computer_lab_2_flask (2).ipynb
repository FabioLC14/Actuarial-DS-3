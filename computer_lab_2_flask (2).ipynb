{
  "nbformat": 4,
  "nbformat_minor": 0,
  "metadata": {
    "colab": {
      "name": "module3-lab2-flask.ipynb",
      "provenance": [],
      "collapsed_sections": []
    },
    "kernelspec": {
      "name": "python3",
      "display_name": "Python 3"
    },
    "language_info": {
      "name": "python"
    }
  },
  "cells": [
    {
      "cell_type": "markdown",
      "source": [
        "<center> <h1> <span style=\"color:black\"> IA|BE Data Science Certificate - Module 3 - Computer lab 2  </h1> </center>\n",
        "\n",
        "\n",
        "\n",
        "<center> <h2> <span style=\"color:red\"> Building ML Model Applications with Flask</h1> </center>"
      ],
      "metadata": {
        "id": "Aa3gmAcIM1aH"
      }
    },
    {
      "cell_type": "markdown",
      "source": [
        "# Introduction"
      ],
      "metadata": {
        "id": "nLtL0hCwNBfi"
      }
    },
    {
      "cell_type": "markdown",
      "source": [
        "Making inferences from your ML model via some sort of application is an important part of the process when you want users to be able to interact with your model in an intuitive way. This workshop will show you the basics on how to set up an inference app for your ML models via Flask.\n",
        "\n",
        "[Flask](https://palletsprojects.com/p/flask/) is a web application framework, designed to get up and running quick and easy. This is a popular framework within Python and the [documentation](https://flask.palletsprojects.com/en/2.1.x/) shows how to get started fast. We will cover the basics of setting up a Flask application and how to route requests to the server.\n",
        "\n",
        "We will be making use of [ngrok](https://ngrok.com), a very convenient tool to put your app on the internet. This tool allows to make your Flask apps running on localhost available on the internet via [flask-ngrok](https://github.com/gstaff/flask-ngrok). To follow along this lab you will need to create a free account on the [signup](https://dashboard.ngrok.com/signup) page, this only takes a minute."
      ],
      "metadata": {
        "id": "mYvjJD6aNSC4"
      }
    },
    {
      "cell_type": "markdown",
      "source": [
        "# Technical setup"
      ],
      "metadata": {
        "id": "Gfe8q5paNDix"
      }
    },
    {
      "cell_type": "markdown",
      "source": [
        "We first install the flask, flask-ngrok and pyngrok libraries via pip. The -q option quiets the output to keep the output clear."
      ],
      "metadata": {
        "id": "sPJo2NXJN09G"
      }
    },
    {
      "cell_type": "code",
      "source": [
        "!pip install -q flask-ngrok\n",
        "!pip install -q flask\n",
        "!pip install -q pyngrok==4.1.1\n",
        "#Needed flask==0.12.2 in the past as newer versions of flask didn't work in Colab, but issue seems fixed (see https://github.com/plotly/dash/issues/257)"
      ],
      "metadata": {
        "id": "FBEcBZQmN1T1"
      },
      "execution_count": null,
      "outputs": []
    },
    {
      "cell_type": "markdown",
      "source": [
        "You need to supply your personal ngrok authentication token to be able to run the app later on. You can find it in the \"Your Authtoken\" page when logged into ngrok online ([here](https://dashboard.ngrok.com/get-started/your-authtoken)).\n",
        "\n",
        "Run the command `!ngrok authtoken insert_your_token_here_without_quotation_marks`\n",
        "\n",
        "Fictional example: `!ngrok authtoken 28KM76XzAiQ3C0ASoq9mxDgKUam_6U7bKseK64vS9H54AMvrFalse`"
      ],
      "metadata": {
        "id": "fYO8slPjdQVv"
      }
    },
    {
      "cell_type": "code",
      "source": [
        "# Run the authtoken command here\n"
      ],
      "metadata": {
        "id": "n79Dze4zDQRd"
      },
      "execution_count": null,
      "outputs": []
    },
    {
      "cell_type": "markdown",
      "source": [
        "Next, we import the libraries that we will use to build and serve our ML model."
      ],
      "metadata": {
        "id": "ZPPL058tN1rG"
      }
    },
    {
      "cell_type": "code",
      "source": [
        "import numpy as np\n",
        "import pandas as pd\n",
        "import seaborn as sns\n",
        "from sklearn import linear_model\n",
        "from flask import Flask, render_template, request\n",
        "from flask_ngrok import run_with_ngrok"
      ],
      "metadata": {
        "id": "d8dQjq_LN2Ch"
      },
      "execution_count": null,
      "outputs": []
    },
    {
      "cell_type": "markdown",
      "source": [
        "# Read data"
      ],
      "metadata": {
        "id": "Iu8xbbgxNGtx"
      }
    },
    {
      "cell_type": "markdown",
      "source": [
        "We will create an ML model for the Ames housing data, se we first need to read our CSV data as a Pandas DataFrame."
      ],
      "metadata": {
        "id": "olbtCAH4Njy2"
      }
    },
    {
      "cell_type": "code",
      "source": [
        "pd_ames = pd.read_csv(\"https://katrienantonio.github.io/hands-on-machine-learning-R-module-1/data/ames_python.csv\")\n",
        "pd_ames = pd_ames.drop(columns=[\"Unnamed: 0\"])"
      ],
      "metadata": {
        "id": "clzQmX_kNklM"
      },
      "execution_count": null,
      "outputs": []
    },
    {
      "cell_type": "markdown",
      "source": [
        "After succesfully loading our data, we can inspect the first 10 rows with the Pandas `head` method."
      ],
      "metadata": {
        "id": "--3Ij6NbODgc"
      }
    },
    {
      "cell_type": "code",
      "source": [
        "pd_ames.head(10)"
      ],
      "metadata": {
        "id": "wX6B6n_dOD2Z"
      },
      "execution_count": null,
      "outputs": []
    },
    {
      "cell_type": "markdown",
      "source": [
        "# Data preperation"
      ],
      "metadata": {
        "id": "atkI6dcRQjJr"
      }
    },
    {
      "cell_type": "markdown",
      "source": [
        "We perform some data preperation steps before fitting our ML model to the Ames housing data. The goal is to predict the sale price of a house, which has the following ditribution in our data:"
      ],
      "metadata": {
        "id": "e884iPJUQi1C"
      }
    },
    {
      "cell_type": "code",
      "source": [
        "pd_ames.Sale_Price.hist(bins=20);"
      ],
      "metadata": {
        "id": "VkphX4NsONqy"
      },
      "execution_count": null,
      "outputs": []
    },
    {
      "cell_type": "markdown",
      "source": [
        "To make the target distribution more normal-like, we take the log transform:"
      ],
      "metadata": {
        "id": "j-V32b92O-xc"
      }
    },
    {
      "cell_type": "code",
      "source": [
        "pd_ames[\"Log_Sale_Price\"] = np.log(pd_ames[\"Sale_Price\"])\n",
        "pd_ames.Log_Sale_Price.hist(bins=20);"
      ],
      "metadata": {
        "id": "TnHvEKM4O9R7"
      },
      "execution_count": null,
      "outputs": []
    },
    {
      "cell_type": "markdown",
      "source": [
        "We learned in the previous part of this workshop that the log of the sale price (`Sale_Price`) is quite linearly related to the log of the lot area (`Lot_Area`), so let's add this transformed variable in our data:"
      ],
      "metadata": {
        "id": "mX8Zn_uZO9F9"
      }
    },
    {
      "cell_type": "code",
      "source": [
        "pd_ames[\"Log_Lot_Area\"] = np.log(pd_ames[\"Lot_Area\"])"
      ],
      "metadata": {
        "id": "VCg-O_wkRPlc"
      },
      "execution_count": null,
      "outputs": []
    },
    {
      "cell_type": "markdown",
      "source": [
        "# Build an ML model"
      ],
      "metadata": {
        "id": "hbqapk0GNIGu"
      }
    },
    {
      "cell_type": "markdown",
      "source": [
        "We will create a very simple linear ML model which predicts the logged sale price (`Log_Sale_Price`) based on the logged lot area (`Log_Lot_Area`) and the living area (`Gr_Liv_Area`). The plots below show that these relations sort of hold:"
      ],
      "metadata": {
        "id": "I3FidA4sRuGU"
      }
    },
    {
      "cell_type": "code",
      "source": [
        "# Regression plot for logged lot area\n",
        "sns.regplot(data=pd_ames, x=\"Log_Lot_Area\", y=\"Log_Sale_Price\");"
      ],
      "metadata": {
        "id": "SDQHhqM7SYTV"
      },
      "execution_count": null,
      "outputs": []
    },
    {
      "cell_type": "code",
      "source": [
        "# Regression plot for living area\n",
        "sns.regplot(data=pd_ames, x=\"Gr_Liv_Area\", y=\"Log_Sale_Price\");"
      ],
      "metadata": {
        "id": "WzhyW8mASYCj"
      },
      "execution_count": null,
      "outputs": []
    },
    {
      "cell_type": "markdown",
      "source": [
        "Let's create our simple linear model via scikit-learn:"
      ],
      "metadata": {
        "id": "uUAxQ8cwTAaq"
      }
    },
    {
      "cell_type": "code",
      "source": [
        "# Create the feature matrix X and target vector y\n",
        "X_ames = pd_ames[[\"Log_Lot_Area\",\"Gr_Liv_Area\"]]\n",
        "y_ames = pd_ames.Log_Sale_Price\n",
        "# Initialize the linear model and fit to our data\n",
        "lin_mod = linear_model.LinearRegression()\n",
        "lin_mod.fit(X_ames.values, y_ames.values)"
      ],
      "metadata": {
        "id": "RybRnh_2TFdn"
      },
      "execution_count": null,
      "outputs": []
    },
    {
      "cell_type": "markdown",
      "source": [
        "The intercept of our model is equal to:"
      ],
      "metadata": {
        "id": "O6-C3qkQUYVm"
      }
    },
    {
      "cell_type": "code",
      "source": [
        "lin_mod.intercept_"
      ],
      "metadata": {
        "id": "zjJPdBItUYpB"
      },
      "execution_count": null,
      "outputs": []
    },
    {
      "cell_type": "markdown",
      "source": [
        "The coefficients of our model are equal to:"
      ],
      "metadata": {
        "id": "gSsz1gL3TmMT"
      }
    },
    {
      "cell_type": "code",
      "source": [
        "pd.DataFrame({\"feature\":X_ames.columns.values,\"coefficient\":lin_mod.coef_})"
      ],
      "metadata": {
        "id": "TVy2ZcKDTmoC"
      },
      "execution_count": null,
      "outputs": []
    },
    {
      "cell_type": "markdown",
      "source": [
        "We can use the `predict` method of our linear model to make inference on new houses:"
      ],
      "metadata": {
        "id": "3iDLl7fOVOYL"
      }
    },
    {
      "cell_type": "code",
      "source": [
        "lin_mod.predict(np.array([[9,2000]]))"
      ],
      "metadata": {
        "id": "iMLDWoGMVLfE"
      },
      "execution_count": null,
      "outputs": []
    },
    {
      "cell_type": "markdown",
      "source": [
        "We can also define a function to make these calculations based on the intercept and coefficients:"
      ],
      "metadata": {
        "id": "ps51bMCjVMEE"
      }
    },
    {
      "cell_type": "code",
      "source": [
        "def ames_prediction(log_lot_area, gr_liv_area):\n",
        "  return(lin_mod.intercept_ + log_lot_area*lin_mod.coef_[0] + gr_liv_area*lin_mod.coef_[1])\n",
        "\n",
        "ames_prediction(9, 2000)"
      ],
      "metadata": {
        "id": "ztAhanaDVMdr"
      },
      "execution_count": null,
      "outputs": []
    },
    {
      "cell_type": "markdown",
      "source": [
        "Inference is still done within our notebook. We now demonstrate how to set up a web application to make inference on our ML model via Flask."
      ],
      "metadata": {
        "id": "_WhqC-zIW6TE"
      }
    },
    {
      "cell_type": "markdown",
      "source": [
        "# Create a basic Flask app"
      ],
      "metadata": {
        "id": "iiIlgvxUNMw3"
      }
    },
    {
      "cell_type": "markdown",
      "source": [
        "We will create a very basic \"hello-world\" type of Flask app to start. The following steps are taken:\n",
        "\n",
        "* initiate the app by creating an instance of the `flask.Flask` class\n",
        "* specify that you want to run the app with ngrok via the `run_with_ngrok` function\n",
        "* define the functionality of our `welcome` function, which simply prints a welcome message\n",
        "* run the app via the `.run()` method\n",
        "\n",
        "Now you can click the hyperlink that ends on `ngrok.io` below and you will be redirected to your web application, where you should be able to see the welcome message. Cool, right?!\n",
        "\n",
        "We skipped over one element in the code below so far, namely the `@route(\"/\")` decorator for our welcome function. This route decorator tells Flask which URL should trigger our function. Setting this to \"/\", this will simply redirect us to the landing page of our application."
      ],
      "metadata": {
        "id": "N4EEBcLv0HPU"
      }
    },
    {
      "cell_type": "code",
      "source": [
        "# Initialize the app\n",
        "app = Flask(__name__)\n",
        "# Start ngrok when app is run\n",
        "run_with_ngrok(app)\n",
        "\n",
        "# Define our first app function\n",
        "@app.route(\"/\")\n",
        "def welcome():\n",
        "    return \"Welcome to the wonderful world of ML inference via Flask!\"\n",
        "\n",
        "#if __name__ == '__main__':\n",
        "app.run()  \n",
        "# If address is in use, may need to terminate other sessions: Runtime > Manage Sessions > Terminate Other Sessions"
      ],
      "metadata": {
        "id": "T-h3TKy20Hov"
      },
      "execution_count": null,
      "outputs": []
    },
    {
      "cell_type": "markdown",
      "source": [
        "## First basic inference"
      ],
      "metadata": {
        "id": "y1atmBRRkBDO"
      }
    },
    {
      "cell_type": "markdown",
      "source": [
        "Let's now add another URL page to our web application. Below we add another function `inference` to our app, which for now simply prints another message for us. Note that the decorator for this function is chosen as `@app.route(\"/inference\")`, so can navigate to this page by adding `/inference` to our application URL."
      ],
      "metadata": {
        "id": "BhatTYXOGZT3"
      }
    },
    {
      "cell_type": "code",
      "source": [
        "app = Flask(__name__)\n",
        "run_with_ngrok(app)\n",
        "\n",
        "@app.route(\"/\")\n",
        "def welcome():\n",
        "    return \"Welcome to the wonderful world of ML inference via Flask!\"\n",
        "\n",
        "# New function and URL added to our app\n",
        "@app.route(\"/inference\")\n",
        "def inference():\n",
        "    return \"Let's do some inference on our Ames ML model...\"\n",
        "\n",
        "app.run()  "
      ],
      "metadata": {
        "id": "39VECjYe4o4s"
      },
      "execution_count": null,
      "outputs": []
    },
    {
      "cell_type": "markdown",
      "source": [
        "Our previous inference page did not really do any inference however. We now added a third function `inference_values` which takes two input arguments. These represent the two input features of our linear model, namely `Log_Lot_Area` and `Gr_Liv_Area`. Notice how the decorator for this fucntion is set to `@app.route(\"/inference/<int:a>,<int:b>\")`. Try adding the following to the URL `/inference/9,2000`. What do you see? Does this number ring a bell?"
      ],
      "metadata": {
        "id": "MaDQA5d_Gw57"
      }
    },
    {
      "cell_type": "code",
      "source": [
        "app = Flask(__name__)\n",
        "run_with_ngrok(app)\n",
        "\n",
        "@app.route(\"/\")\n",
        "def welcome():\n",
        "    return \"Welcome to the wonderful world of ML inference via Flask!\"\n",
        "\n",
        "@app.route(\"/inference\")\n",
        "def inference():\n",
        "    return \"Let's do some inference on our Ames ML model...\"\n",
        "\n",
        "# An actual inference function is added to the app\n",
        "@app.route(\"/inference/<int:a>,<int:b>\")\n",
        "def inference_values(a,b):\n",
        "    pred_value = lin_mod.predict(np.array([[a,b]]))[0]\n",
        "    return f\"The predicted value is equal to {pred_value}\"\n",
        "\n",
        "app.run()"
      ],
      "metadata": {
        "id": "OKMI0pMkGG7a"
      },
      "execution_count": null,
      "outputs": []
    },
    {
      "cell_type": "markdown",
      "source": [
        "## Using template forms"
      ],
      "metadata": {
        "id": "MmbKK9XZJe8W"
      }
    },
    {
      "cell_type": "markdown",
      "source": [
        "Our previous attempt to perform inference was succesful, but not very flashy or user-friendly. Let's make the application nicer by using HTML templates for Flask forms. A Flask form is an HTML file with the `<form>` attribute:\n",
        "\n",
        "```\n",
        "<form action=\"action_to_perform_after_submission\" method = \"POST\">\n",
        "    <p>Field1 <input type = \"text\" name = \"Field1_name\" /></p>\n",
        "    <p>Field2 <input type = \"text\" name = \"Field2_name\" /></p>\n",
        "    ...\n",
        "    <p><input type = \"submit\" value = \"submit\" /></p>\n",
        "</form>\n",
        "```\n",
        "\n",
        "This HTML template decides the lay-out of the page to show. The action to perform is specified in the `action` attribute, which is what we will use to make our inference predictions.\n"
      ],
      "metadata": {
        "id": "1tZAGFfTj46v"
      }
    },
    {
      "cell_type": "markdown",
      "source": [
        "We provide two template forms (`input_form.html` and `predict.html`) which are stored together in a `templates` folder. To be able to use these templates, you'll need to follow these steps:\n",
        "\n",
        "* add the templates folder (containing both templates) in your Google Drive, aka My Drive\n",
        "* mount your Google Drive in this notebook\n",
        "* check that you can find the templates\n",
        "\n",
        "The first step should be done manually, the last two steps are done with the following code:"
      ],
      "metadata": {
        "id": "4i0Xz-PySkFn"
      }
    },
    {
      "cell_type": "code",
      "source": [
        "# Mount your Google Drive (you'll need to permit access when doing this)\n",
        "from google.colab import drive\n",
        "drive.mount('/content/gdrive')\n",
        "# Check that you can find the templates\n",
        "!ls /content/gdrive/MyDrive/templates"
      ],
      "metadata": {
        "id": "c5OonuvuSjKH"
      },
      "execution_count": null,
      "outputs": []
    },
    {
      "cell_type": "markdown",
      "source": [
        "Let's first see how our template `input_form.html` renders in our app. We can use the `flask.render_template()` function with the template as input to generate the HTML page. Notice that our templates are stored in the \"gdrive/MyDrive/templates\" folder and we let Flask know via the `template_folder` argument."
      ],
      "metadata": {
        "id": "XdnJ6LtomUwj"
      }
    },
    {
      "cell_type": "code",
      "source": [
        "app = Flask(__name__, template_folder='gdrive/MyDrive/templates')\n",
        "run_with_ngrok(app)\n",
        "\n",
        "# Render the input form template at the homepage\n",
        "@app.route(\"/\")\n",
        "def input_data():\n",
        "  return render_template(\"input_form.html\")\n",
        "  \n",
        "app.run()"
      ],
      "metadata": {
        "id": "KaKxBxuQPq35"
      },
      "execution_count": null,
      "outputs": []
    },
    {
      "cell_type": "markdown",
      "source": [
        "We are not able to do inference yet after clicking the submit button, so let's add this functionality into our app now. We add the `predict_result` function which takes the input values that we supply and makes a prediction for our linear Ames model. The output is then rendered via the `predict.html` template.\n",
        "\n",
        "The decorator is `@app.route(\"/predict\",methods = [\"POST\"])` which shows that the result will be available at the `/predict` URL. Notice the `\"POST\"` method specification. We have two main HTTP methods to interact with the server:\n",
        "\n",
        "* `GET`: pull specific info from the server, for example when a user request a page\n",
        "* `POST`: send data from the user to the server, for example when a user fill in input data\n",
        "\n",
        "Our `predict_result` function only allows a `POST` method, which will be invoked by us sending the house info via the submit button of out input form. Curious to see what happens when you try to access the `/predict` page directly?"
      ],
      "metadata": {
        "id": "5r5nYz9dUPS0"
      }
    },
    {
      "cell_type": "code",
      "source": [
        "app = Flask(__name__, template_folder='gdrive/MyDrive/templates')\n",
        "run_with_ngrok(app)\n",
        "\n",
        "@app.route(\"/\")\n",
        "def input_data():\n",
        "  return render_template(\"input_form.html\")\n",
        "\n",
        "# Implement a predict POST method to do some actual inference\n",
        "@app.route(\"/predict\",methods = [\"POST\"])\n",
        "def predict_result():\n",
        "  if request.method == \"POST\":\n",
        "    to_predict_list = list(request.form.to_dict().values())\n",
        "    prediction = str(lin_mod.predict(np.array([to_predict_list]))[0])\n",
        "    return render_template(\"predict.html\",prediction=prediction)\n",
        "  \n",
        "app.run()"
      ],
      "metadata": {
        "id": "jCqGWc93S8gH"
      },
      "execution_count": null,
      "outputs": []
    },
    {
      "cell_type": "markdown",
      "source": [
        "Such annoying error messages might be scaring away users, so it is possible to also allow a `GET` method on our `/predict` page, which we catch by simply printing out a useful error message and fix to solve it."
      ],
      "metadata": {
        "id": "DDvF4UHxajfT"
      }
    },
    {
      "cell_type": "code",
      "source": [
        "app = Flask(__name__, template_folder='gdrive/MyDrive/templates')\n",
        "run_with_ngrok(app)\n",
        "\n",
        "@app.route(\"/\")\n",
        "def input_data():\n",
        "  return render_template(\"input_form.html\")\n",
        "\n",
        "# Add a predict GET method to propose a redirect instead of giving an error\n",
        "@app.route(\"/predict\",methods = [\"GET\",\"POST\"])\n",
        "def predict_result():\n",
        "  if request.method == \"GET\":\n",
        "    return \"It seems like you are trying to reach the predict page without input values: go back to the '/' page.\"\n",
        "  if request.method == \"POST\":\n",
        "    to_predict_list = list(request.form.to_dict().values())\n",
        "    prediction = str(lin_mod.predict(np.array([to_predict_list]))[0])\n",
        "    return render_template(\"predict.html\",prediction=prediction)\n",
        "  \n",
        "app.run()"
      ],
      "metadata": {
        "id": "ncVF8xmAU_9x"
      },
      "execution_count": null,
      "outputs": []
    },
    {
      "cell_type": "markdown",
      "source": [
        "Now you hopefully have a hang of the basics of web application development via Flask. Feel free to experiment further and add extra functionality or flashy items to your app. Have fun!"
      ],
      "metadata": {
        "id": "x7mzhqRaozCa"
      }
    },
    {
      "cell_type": "code",
      "source": [
        "# Your custom Flask app"
      ],
      "metadata": {
        "id": "VeZPMe1co_iq"
      },
      "execution_count": null,
      "outputs": []
    }
  ]
}