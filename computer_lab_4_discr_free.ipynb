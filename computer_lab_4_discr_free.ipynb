{
  "cells": [
    {
      "cell_type": "markdown",
      "metadata": {
        "id": "wYX2GJuKPJfN"
      },
      "source": [
        "<center> <h1> <span style=\"color:black\"> IA|BE Data Science Certificate - Module 3 - Computer lab 4  </h1> </center> \n",
        "<center> <h2> <span style=\"color:red\"> Fairness and discrimination-free insurance pricing </h1> </center>"
      ]
    },
    {
      "cell_type": "markdown",
      "metadata": {
        "id": "O7CrX5ZKPJfP"
      },
      "source": [
        "# Agenda\n",
        "\n",
        "* [Chapter 1 - Introduction](#one)\n",
        "  + [1.1 Bias, discrimination and fairness](#one-one)\n",
        "    + [1.1.1 Bias](#one-one-one)\n",
        "    + [1.1.2 Discrimination](#one-one-two)\n",
        "    + [1.1.3 Fairness](#one-one-three)\n",
        "  + [1.2 Problem definition and mitigation](#one-two)\n",
        "  + [1.3 Insurance pricing as in Lindholm et al. (2022)](#one-three)\n",
        "* [Chapter 2 - Toy example](#two)\n",
        "  + [2.1 Best-estimate prices](#two-one)\n",
        "    + [2.1.1 Best-estimate prices: male + non-smoker](#two-one-one)\n",
        "    + [2.1.2 Best-estimate prices: male + smoker](#two-one-two)\n",
        "    + [2.1.3 Best-estimate prices: female + non-smoker](#two-one-three)\n",
        "    + [2.1.4 Best-estimate prices: female + smoker](#two-one-four)\n",
        "    + [2.1.5 Plot best-estimate prices: smoker vs non-smoker](#two-one-five)\n",
        "  + [2.2 Unawareness prices](#two-two)\n",
        "    + [2.2.1 Unawareness prices: smoker](#two-two-one)\n",
        "    + [2.2.2 Unawareness prices: non-smoker](#two-two-two)\n",
        "  + [2.3 Discrimination-free prices](#two-three)\n",
        "    + [2.3.1 Discrimination-free prices: smoker](#two-three-one)\n",
        "    + [2.3.2 Discrimination-free prices: non-smoker](#two-three-two)\n",
        "  + [2.4 Plot all technical prices](#two-four)\n",
        "    + [2.4.1 What happens to unawareness prices if we change $P(D=female|X_{2}=smoker)$?](#two-four-one)\n",
        "* [Chapter 3 - A more complicated example - simulating a portfolio of policyholders](#three)\n",
        "  + [3.1 Data generation](#three-one)\n",
        "  + [3.2 Fitting a Poisson GLM to individual claim types](#three-two)\n",
        "  + [3.3 Estimation of technical prices](#three-three)\n",
        "  + [3.4 Aggregate results and plots](#three-four)\n",
        "* [Chapter 4 - Conclusions](#four)"
      ]
    },
    {
      "cell_type": "markdown",
      "metadata": {
        "id": "UvInpoZePJfR"
      },
      "source": [
        "In this computer lab we will closely follow the methodology introduced by **Lindholm et al.** in their recent ASTIN Bulletin paper [\"Discrimination-Free Insurance Pricing\"](https://www.cambridge.org/core/journals/astin-bulletin-journal-of-the-iaa/article/discriminationfree-insurance-pricing/ED25C4053690E56050F437B8DF2AD117) to calculate discrimination-free insurance prices. In fact, in chapter 2 and 3 of this document, we will replicate the main results obtained in the paper, both on a toy example and on a simulated health insurance portfolio."
      ]
    },
    {
      "cell_type": "markdown",
      "metadata": {
        "id": "3V45sKndPJfS"
      },
      "source": [
        "# Chapter 1 - Introduction <a name=\"one\"></a>"
      ]
    },
    {
      "cell_type": "markdown",
      "metadata": {
        "id": "ZFTAhelwPJfT"
      },
      "source": [
        "## 1.1 Bias, discrimination and fairness <a name=\"one-one\"></a>"
      ]
    },
    {
      "cell_type": "markdown",
      "metadata": {
        "id": "EWbW6fFtPJfU"
      },
      "source": [
        "In the last few years, we witnessed an increasing focus on ethics and fairness when using statistical learning/machine learning models. Various definitions of bias, discrimination and fairness have been proposed in the machine learning literature, see [Mehrabi et al., (2019)](https://dl.acm.org/doi/abs/10.1145/3457607) for a comprehensive list. As several of the proposed definitions are conflicting between each other, researchers are working to find a consensum on which definitions are relevant for specific fields. As discussed in [Xin and Huang, (2021)](https://papers.ssrn.com/sol3/papers.cfm?abstract_id=3850420), we present some of the most relevant definitions applicable in insurance pricing. Further details about the definitions that we are going to introduce can be found in [Mehrabi et al., (2019)](https://dl.acm.org/doi/abs/10.1145/3457607)."
      ]
    },
    {
      "cell_type": "markdown",
      "metadata": {
        "id": "PTu8fijscQEf"
      },
      "source": [
        "### 1.1.1 Bias <a name=\"one-one-one\"></a>"
      ]
    },
    {
      "cell_type": "markdown",
      "metadata": {
        "id": "lLhtPSTZcQEf"
      },
      "source": [
        "Bias and fairness are two sides of the same coin. Bias can exist in many shapes and forms, some of which can lead to unfairness:"
      ]
    },
    {
      "cell_type": "markdown",
      "metadata": {
        "id": "Icyaby9ZcQEg"
      },
      "source": [
        "* **from data to algorithm:** bias might be learnt from data by machine learning training algorithms, which results in biased outcome. E.g., *measurement bias* that arises from how we choose, utilize and measure particular features. COMPAS recedivism risk prediction tool is a popular example, where riskiness of a subject is measured by prior arrests and family arrests, resulting into biased outcomes towards the black community. However, this is partly due to the fact that more cases are filed for minority communities as they are more often controlled by the police"
      ]
    },
    {
      "cell_type": "markdown",
      "metadata": {
        "id": "tb7dFWNccQEh"
      },
      "source": [
        "* **from algorithm to user:** any bias in the algorithms might introduce biases in user behaviour, e.g., *algorithmic bias* is when the bias is not present in the input data and is added purely by the algorithm. This might arise from algorithmic design choices, e.g., by applying regression model on a non-stratified subset of the data, choice of the loss function, ...)"
      ]
    },
    {
      "cell_type": "markdown",
      "metadata": {
        "id": "rn6Z-atLcQEh"
      },
      "source": [
        "* **from user to data:** users behavior/cultural background might affect the data that they generate, e.g., *historical bias* is the already existing bias and socio-technical issues in the world, e.g., a 2018 Google image search result where searching for CEOs showed a few female profiles due to the fact that only 5% of Fortune 500 CEOs were female."
      ]
    },
    {
      "cell_type": "markdown",
      "metadata": {
        "id": "qFR0qmWLcQEh"
      },
      "source": [
        "### 1.1.2 Discrimination <a name=\"one-one-two\"></a>"
      ]
    },
    {
      "cell_type": "markdown",
      "metadata": {
        "id": "7pEgZ2xhcQEh"
      },
      "source": [
        "We present some of the relevant notions of discrimination in insurance pricing:"
      ]
    },
    {
      "cell_type": "markdown",
      "metadata": {
        "id": "U6OEdBjrPJfV"
      },
      "source": [
        "* **statistical discrimination:** when people are treated differently, solely based on statistical evidence. As an example, young policyholders are charged more for car insurance than older, more experienced policyholders because it turns out that there is historical evidence that they are more likely to file claims. In insurance, statistical discrimination is only fully avoided if everyone is charged the same premium, regardless of individual characteristics"
      ]
    },
    {
      "cell_type": "markdown",
      "metadata": {
        "id": "52-hjjZ0cQEi"
      },
      "source": [
        "* **direct discrimination:** when protected characteristics of individuals explicitly result in different premiums. In particular, direct discrimination would occur when higher premiums are charged simply because protected characteristics of policyholders are not equal. An example would occur when a male and a female policyholder are charged different premiums, even though all of their other characteristics are equal"
      ]
    },
    {
      "cell_type": "markdown",
      "metadata": {
        "id": "xCjOnZhHcQEi"
      },
      "source": [
        "* **indirect discrimination:** after direct discrimination is avoided, indirect discrimination occurs when a policyholder is treated unfairly due to the inference of his protected characteristics via the seemingly neutral non-protected characteristics. Proxy discrimination is a well-known form of indirect discrimination and occurs when non-protected characteristics proxy for the dropped protected characteristic and \"take over\" their predictive power. As an example, assume that for some reason men more frequently smoke than women. If we exclude gender as a direct rating factor, but include smoking habits as a rating factor, smoking habits can proxy for the left out rating factor gender and (partly) take over its predictive power."
      ]
    },
    {
      "cell_type": "markdown",
      "metadata": {
        "id": "cViuqOs_cQEi"
      },
      "source": [
        "### 1.1.3 Fairness <a name=\"one-one-three\"></a>"
      ]
    },
    {
      "cell_type": "markdown",
      "metadata": {
        "id": "v7y_ZKVkcQEi"
      },
      "source": [
        "Most fairness criteria presented in machine learning literature are linked to classification problems. Some of them can be extended to regression problems and can be applied in insurance pricing:"
      ]
    },
    {
      "cell_type": "markdown",
      "metadata": {
        "id": "1DEUpHFxcQEj"
      },
      "source": [
        "* **demographic (or statistical) parity:** a pricing procedure satisfies demographic parity when each group of a protected feature receives the same price, ceteris paribus. Basically, the prediction should be statistically independent of the protected feature. Often, we refer to this definition as *group fairness*"
      ]
    },
    {
      "cell_type": "markdown",
      "metadata": {
        "id": "GROeF19XcQEj"
      },
      "source": [
        "* **fairness through awareness:** a pricing procedure is fair by this notion if similar individuals get similar prices, see [Dwork et al., (2012)](https://dl.acm.org/doi/10.1145/2090236.2090255). This type of fairness can also be called individual fairness as similar individuals should be treated similarly, see [Zemel et al., (2013)](https://proceedings.mlr.press/v28/zemel13.html). If the pricing procedure satisfies fairness through awareness, it can be directly discriminatory. For this notion all information that can be used should be used, which means also protected characteristics can explicitly be used in\n",
        "the pricing function"
      ]
    },
    {
      "cell_type": "markdown",
      "metadata": {
        "id": "SfzVtMapcQEj"
      },
      "source": [
        "* **fairness through unawareness:** a pricing procedure is fair by this notion if protected characteristics are not explicitly used in\n",
        "the pricing function, see [Kusner et al., (2017)](https://dl.acm.org/doi/10.5555/3294996.3295162). If the pricing procedure satisfies fairness through unawareness, it avoids direct discrimination, but indirect discrimination can occur"
      ]
    },
    {
      "cell_type": "markdown",
      "metadata": {
        "id": "AWPYXw2VcQEk"
      },
      "source": [
        "* **fairness through immunized data:** a pricing procedure is fair by this notion if the protected characteristics are not explicitly\n",
        "used, conform fairness through unawareness, and additionally the non-protected characteristics are pre-adjusted to be \"immune\" to the protected characteristics, see [Xin and Huang, (2021)](https://papers.ssrn.com/sol3/papers.cfm?abstract_id=3850420). Fairness through immunized data can be seen as an extension of fairness through unawareness to overcome the possible proxy discrimination. If a pricing procedure satisfies fairness through immunized data, it avoids direct and indirect discrimination."
      ]
    },
    {
      "cell_type": "markdown",
      "metadata": {
        "id": "-j3JcQBAPJfY"
      },
      "source": [
        "## 1.2 Problem definition and mitigation<a name=\"one-two\"></a>"
      ]
    },
    {
      "cell_type": "markdown",
      "metadata": {
        "id": "k4twk8gwPJfY"
      },
      "source": [
        "\"Technology is neither good nor bad; nor is it neutral\" [Kranzberg (1986)](https://www.jstor.org/stable/3105385). We often think that machines are free from the biases that typically affect humans. As illustrated in the paragraph above, learning algorithms might pick up particular forms of bias. Generally, the actuary/statistician aims to build a model that minimizes the loss function, which might result in models that discriminate against people with sensitive attributes, leading to unfairness. Therefore, fairness goals must be explicit and enforced in the learning process."
      ]
    },
    {
      "cell_type": "markdown",
      "metadata": {
        "id": "9iL7ZdZPcQEk"
      },
      "source": [
        "Models' pipelines contain three possible intervention points to mitigate unwanted bias: (1) via the training data, (2) via the learning procedure, and (3) via the resulting predictions. Therefore, we introduce three corresponding classes of mitigation methodologies:\n",
        "* pre-processing, which consists of modifying the data that is translated into inputs for a training process (e.g., relabeling)\n",
        "* in-processing, which takes place directly in the model trainin by adding an additional objective to the loss function, e.g., via a regularization term\n",
        "* post-processing, which takes place after having fitted the model."
      ]
    },
    {
      "cell_type": "markdown",
      "metadata": {
        "id": "NfM9qyWVcQEk"
      },
      "source": [
        "[Lindholm et al. (2022)](https://www.cambridge.org/core/services/aop-cambridge-core/content/view/ED25C4053690E56050F437B8DF2AD117/S0515036121000234a.pdf/discrimination-free-insurance-pricing.pdf) present a *post-processing* methodology to arrive at discrimination-free insurance pricing."
      ]
    },
    {
      "cell_type": "markdown",
      "metadata": {
        "id": "07JFt7k2PJfa"
      },
      "source": [
        "<center><img src=\"https://github.com/loremarchi/discrimination_free_pricing_presentation/blob/main/imgs/1_approaches_to_fairness_modelling.png?raw=1\"/><figcaption>Figure 1: Flowchart indicating the three alternative mitigation strategies. The dashed lines indicates pre-processing and in-processing techniques, referring to methods used before and during the modeling phase of the data, respectively. The solid line indicates a subgroup of methodologies adjusting the fitted values, hence after fitting the model. The method described in Lindholm et al. (2022) belongs to this latest subset. </figcaption></center>"
      ]
    },
    {
      "cell_type": "markdown",
      "metadata": {
        "id": "3RGFQCMGPJfa"
      },
      "source": [
        "## 1.3 Insurance pricing as in [Lindholm et al. (2022)](https://www.cambridge.org/core/services/aop-cambridge-core/content/view/ED25C4053690E56050F437B8DF2AD117/S0515036121000234a.pdf/discrimination-free-insurance-pricing.pdf) <a name=\"one-three\"></a>"
      ]
    },
    {
      "cell_type": "markdown",
      "metadata": {
        "id": "26jqUBHocQEl"
      },
      "source": [
        "In the actuarial context, technical pricing of insurance products via risk classification is an essential task. An accurate distinction between low and high-risk profiles is prominent in allocating actuarially fair premiums among policyholders. However, commercial tariff tables are subject to insurance regulations; in particular, insurance companies must comply with local regulations to preserve protected classes in society."
      ]
    },
    {
      "cell_type": "markdown",
      "metadata": {
        "id": "JuDn50N9PJfb"
      },
      "source": [
        "By *discrimination*, we refer to insurance prices that differentiate between policyholders on the basis of (legally) prohibited characteristics. Therefore, we assume that the insurer has access to both:\n",
        "* protected (discriminatory) characteristics (e.g., gender, race, religious belief)\n",
        "* unprotected (non-discriminatory) characteristics (e.g. age, smoking habits)."
      ]
    },
    {
      "cell_type": "markdown",
      "metadata": {
        "id": "sT4HAdSNPJfc"
      },
      "source": [
        "The **European Council (2004) COUNCIL DIRECTIVE 2004/113/EC** breaks down discrimination into two more specific subcategories:\n",
        "  * direct discrimination, which takes place when a protected feature is used as a risk factor\n",
        "  * indirect discrimination, which occurs when the model infers protected features from interactions with unprotected ones. *Redlining* is a popular example of **proxy discrimination**, describing an American phenomenon of the 1960s in which the geographical location was used as a proxy for race. The term *redlining* refers to charging higher insurance prices to specific neighborhoods, causing a selective increase for low-income neighborhoods where people from specific communities tend to gather."
      ]
    },
    {
      "cell_type": "markdown",
      "metadata": {
        "id": "0kWr_YlbPJfc"
      },
      "source": [
        "We aim at developing insurance pricing formulas that are free from discrimination. Along the ideas proposed by [Lindholm et al. (2022)](https://www.cambridge.org/core/services/aop-cambridge-core/content/view/ED25C4053690E56050F437B8DF2AD117/S0515036121000234a.pdf/discrimination-free-insurance-pricing.pdf), we build a pricing model that:\n",
        "* avoids direct discrimination\n",
        "* avoids indirect discrimination.\n",
        "    "
      ]
    },
    {
      "cell_type": "markdown",
      "metadata": {
        "id": "sGRIoz_bPJfc"
      },
      "source": [
        "**Remark**: No specific fairness definition is in scope of the methodology introduced today."
      ]
    },
    {
      "cell_type": "markdown",
      "metadata": {
        "id": "b_f39OXGPJfc"
      },
      "source": [
        "# Chapter 2 - Toy example <a name=\"two\"></a>"
      ]
    },
    {
      "cell_type": "markdown",
      "metadata": {
        "id": "0bOVp9a3cQEm"
      },
      "source": [
        "In this section, we are going to illustrate the framework proposed in [Lindholm et al. (2022)](https://www.cambridge.org/core/services/aop-cambridge-core/content/view/ED25C4053690E56050F437B8DF2AD117/S0515036121000234a.pdf/discrimination-free-insurance-pricing.pdf) with a toy example.\n",
        "* $Y = \\sum_{j}{Y_{j}}$ is our target variable representing claim costs of a policyholder, each $Y_{j}$ represents the claim costs related to the $j-th$ claim type, where $j \\in \\{1,2,3\\}$\n",
        "* $\\textbf{X} = (X_{1}, X_{2})$ are unprotected (non-discriminatory) covariates\n",
        "  * $X_{1}\\in \\left \\{ 15,...,80 \\right \\}$ is the age of a policyholder\n",
        "  * $X_{2}\\in \\left \\{ non-smoker, smoker \\right \\}$\n",
        "* $D$ represents the **gender** of a policyholder, it is a protected (discriminatory) covariate\n",
        "* we assume that smoking habits are gender related, hence we assume that the protected feature $D$ and the unprotected feature $X_{2}$ are correlated. Therefore, we assume that the following conditional probability holds: $P(D=female|X_{2}=smoker)=0.8$."
      ]
    },
    {
      "cell_type": "code",
      "execution_count": null,
      "metadata": {
        "id": "e_Za9rh7cQEn"
      },
      "outputs": [],
      "source": [
        "# import main packages\n",
        "import pandas as pd\n",
        "import random\n",
        "import numpy as np\n",
        "import matplotlib.pyplot as plt\n",
        "import seaborn as sns\n",
        "from scipy.stats import norm, binom"
      ]
    },
    {
      "cell_type": "markdown",
      "metadata": {
        "id": "jQm4aT-Rb0PW"
      },
      "source": [
        "## 2.1 Best-estimate prices <a name=\"two-one\"></a>"
      ]
    },
    {
      "cell_type": "markdown",
      "metadata": {
        "id": "TDhIfAs-Vmc6"
      },
      "source": [
        "The **best-estimate price** is defined as:"
      ]
    },
    {
      "cell_type": "markdown",
      "metadata": {
        "id": "IFoFSZYkcQEo"
      },
      "source": [
        "$$\\mu{(\\textbf{X},D)} = \\mathbb{E}\\left[Y|\\textbf{X},D\\right].$$"
      ]
    },
    {
      "cell_type": "markdown",
      "metadata": {
        "id": "dQ0WLZ9tXypq"
      },
      "source": [
        "$\\mathbb{E}\\left[Y|\\textbf{X},D\\right]$ is the regression of claim costs of a policyholder over all available covariates. It is the most accurate price that we can calculate because it leverages on the complete set of available information. Generally, the best-estimate price is not discrimination-free."
      ]
    },
    {
      "cell_type": "markdown",
      "metadata": {
        "id": "IMBsG4PrPJfh"
      },
      "source": [
        "We present a health insurance example to demonstrate the approach of discrimination-free insurance pricing. We consider three different types of health costs: \n",
        "* birthing-related health costs only affect women between ages 20 and 40 (type 1)\n",
        "* cancer-related health costs with a higher frequency for smokers and also for women (type 2)\n",
        "* health costs due to other disabilities (type 3). \n",
        "\n",
        "For simplicity, we only model claim counts as we assume deterministic claim costs for the three different claim types. Furthermore, we assume that all individuals have unitary exposure and that independent Poisson GLMs describe the claim counts for the different claim types with the canonical (logarithmic) link function."
      ]
    },
    {
      "cell_type": "markdown",
      "metadata": {
        "id": "i9sf-hB0cQEp"
      },
      "source": [
        "The three health risks are governed by the following log-frequencies:\n",
        "\n",
        "* birth related health risk only affecting women between age 20 and 40 (type 1):"
      ]
    },
    {
      "cell_type": "markdown",
      "metadata": {
        "id": "gJ7CjMQmcQEp"
      },
      "source": [
        "$$\\log{\\lambda_{1}(\\textbf{X},D)}:=\\alpha_{0}+\\alpha_{1}1_{X_1\\in[20,40]}1_{D=woman}$$"
      ]
    },
    {
      "cell_type": "markdown",
      "metadata": {
        "id": "O2NMSP8zcQEp"
      },
      "source": [
        "* cancer related health risk with higher frequency for smokers and women (type 2):"
      ]
    },
    {
      "cell_type": "markdown",
      "metadata": {
        "id": "mOSk5zdgcQEp"
      },
      "source": [
        "$$\\log{\\lambda_{2}(\\textbf{X},D)}:=\\beta_{0}+\\beta_{1}X_{1}+\\beta_{2}1_{X_2=smoker} + \\beta_{3}1_{D=woman}$$"
      ]
    },
    {
      "cell_type": "markdown",
      "metadata": {
        "id": "C0TxLoF2cQEp"
      },
      "source": [
        "* health risk due to other disabilities (type 3):"
      ]
    },
    {
      "cell_type": "markdown",
      "metadata": {
        "id": "hqPp5jYecQEp"
      },
      "source": [
        "$$\\log{\\lambda_{3}(\\textbf{X},D)}:=\\gamma_{0}+\\gamma_{1}X_{1}.$$"
      ]
    },
    {
      "cell_type": "markdown",
      "metadata": {
        "id": "Zong24EUcQEp"
      },
      "source": [
        "The **best-estimate price**, taking all available covariates into consideration, is given by:"
      ]
    },
    {
      "cell_type": "markdown",
      "metadata": {
        "id": "zFlhPvsdcQEq"
      },
      "source": [
        "$$\\mu{(\\textbf{X},D)} = E\\left[Y|X,D\\right] = C_{1}\\lambda_{1}(\\textbf{X},D) + C_{2}\\lambda_{2}(\\textbf{X},D) + C_{3}\\lambda_{3}(\\textbf{X},D),$$"
      ]
    },
    {
      "cell_type": "markdown",
      "metadata": {
        "id": "GZCs_7Z_cQEq"
      },
      "source": [
        "where $(C_{1},C_{2},C_{3})=(0.5,0.9,0.1)$ are the deterministic claim costs for the respective claim types. Clearly, the best-estimate price uses the protected feature $D$ as risk factor, hence it directly discriminates between genders. Moreover, in the Lindholm et al. (2022) toy example, the best-estimate prices are obtained using the following parametrization:\n",
        "* $(\\alpha_{0},\\alpha_{1})=(-40,38.5)$\n",
        "* $(\\beta_{0},\\beta_{1},\\beta_{2},\\beta_{3})=(-2,0.004,0.1,0.2)$\n",
        "* $(\\gamma_{0},\\gamma_{1})=(-2,0.01)$."
      ]
    },
    {
      "cell_type": "code",
      "execution_count": null,
      "metadata": {
        "colab": {
          "base_uri": "https://localhost:8080/"
        },
        "id": "ulDjc2mxYVqo",
        "outputId": "554c4a81-4825-44b3-c350-c0aef92538ee"
      },
      "outputs": [
        {
          "data": {
            "text/plain": [
              "array([15, 16, 17, 18, 19, 20, 21, 22, 23, 24, 25, 26, 27, 28, 29, 30, 31,\n",
              "       32, 33, 34, 35, 36, 37, 38, 39, 40, 41, 42, 43, 44, 45, 46, 47, 48,\n",
              "       49, 50, 51, 52, 53, 54, 55, 56, 57, 58, 59, 60, 61, 62, 63, 64, 65,\n",
              "       66, 67, 68, 69, 70, 71, 72, 73, 74, 75, 76, 77, 78, 79, 80])"
            ]
          },
          "execution_count": 2,
          "metadata": {},
          "output_type": "execute_result"
        }
      ],
      "source": [
        "age_range = np.arange(start = 15, stop = 81, step = 1); age_range"
      ]
    },
    {
      "cell_type": "code",
      "execution_count": null,
      "metadata": {
        "colab": {
          "base_uri": "https://localhost:8080/"
        },
        "id": "vp0Xmrk8YVt_",
        "outputId": "1f05c020-2359-4b8b-915b-4053899cff82"
      },
      "outputs": [
        {
          "data": {
            "text/plain": [
              "(66,)"
            ]
          },
          "execution_count": 3,
          "metadata": {},
          "output_type": "execute_result"
        }
      ],
      "source": [
        "age_range.shape"
      ]
    },
    {
      "cell_type": "code",
      "execution_count": null,
      "metadata": {
        "colab": {
          "base_uri": "https://localhost:8080/"
        },
        "id": "mvBPUfNcYVw8",
        "outputId": "1c66a756-b75a-4592-a092-a5b7853815c1"
      },
      "outputs": [
        {
          "data": {
            "text/plain": [
              "array([0, 0, 0, 0, 0, 1, 1, 1, 1, 1, 1, 1, 1, 1, 1, 1, 1, 1, 1, 1, 1, 1,\n",
              "       1, 1, 1, 1, 0, 0, 0, 0, 0, 0, 0, 0, 0, 0, 0, 0, 0, 0, 0, 0, 0, 0,\n",
              "       0, 0, 0, 0, 0, 0, 0, 0, 0, 0, 0, 0, 0, 0, 0, 0, 0, 0, 0, 0, 0, 0])"
            ]
          },
          "execution_count": 4,
          "metadata": {},
          "output_type": "execute_result"
        }
      ],
      "source": [
        "pregnant_age_range = np.repeat(0,66)\n",
        "pregnant_age_range[5:26] = 1 # mark categories\n",
        "pregnant_age_range.shape\n",
        "pregnant_age_range"
      ]
    },
    {
      "cell_type": "markdown",
      "metadata": {
        "id": "8FUInsiQPJfi"
      },
      "source": [
        "### 2.1.1 Best-estimate prices: male + non-smoker <a name=\"two-one-one\"></a>"
      ]
    },
    {
      "cell_type": "markdown",
      "metadata": {
        "id": "sc1nhHhbhMWl"
      },
      "source": [
        "In this section, we calculate the expected claim frequencies (across the three claim types) for male and non-smoker policyholders: \n",
        "* $\\lambda_{1}(X_{1},X_{2} = ns,D = m)$ \n",
        "* $\\lambda_{2}(X_{1},X_{2} = ns,D = m)$ \n",
        "* $\\lambda_{3}(X_{1},X_{2} = ns,D = m)$. "
      ]
    },
    {
      "cell_type": "code",
      "execution_count": null,
      "metadata": {
        "id": "QntrT0qlPJfi"
      },
      "outputs": [],
      "source": [
        "type1_m_ns = np.exp(-40)\n",
        "type2_m_ns = np.exp(-2 + 0.004*age_range)\n",
        "type3_m_ns = np.exp(-2 + 0.01*age_range)"
      ]
    },
    {
      "cell_type": "code",
      "execution_count": null,
      "metadata": {
        "colab": {
          "base_uri": "https://localhost:8080/"
        },
        "id": "GNmaGANfPJfj",
        "outputId": "6fb021ad-1904-402f-990a-b50b56cd0875"
      },
      "outputs": [
        {
          "name": "stdout",
          "output_type": "stream",
          "text": [
            "() (66,) (66,)\n"
          ]
        }
      ],
      "source": [
        "print(type1_m_ns.shape, type2_m_ns.shape, type3_m_ns.shape)"
      ]
    },
    {
      "cell_type": "markdown",
      "metadata": {
        "id": "5D7fveUnnvxt"
      },
      "source": [
        "Furthermore, the best-estimate price for male non-smoking subjects is given by summing together the (deterministic) claim costs times the expected frequency across claim types:"
      ]
    },
    {
      "cell_type": "markdown",
      "metadata": {
        "id": "Q-fSEHT6cQEs"
      },
      "source": [
        "$$\\mu{(X_{1},X_{2} = ns,D = m)} = C_{1}\\lambda_{1}(X_{1},X_{2} = ns,D = m) + C_{2}\\lambda_{2}(X_{1},X_{2} = ns,D = m) + C_{3}\\lambda_{3}(X_{1},X_{2} = ns,D = m).$$"
      ]
    },
    {
      "cell_type": "code",
      "execution_count": null,
      "metadata": {
        "id": "9yBgZsXKPJfj"
      },
      "outputs": [],
      "source": [
        "best_est_m_ns = 0.5*type1_m_ns + 0.9*type2_m_ns + 0.1*type3_m_ns"
      ]
    },
    {
      "cell_type": "code",
      "execution_count": null,
      "metadata": {
        "colab": {
          "base_uri": "https://localhost:8080/"
        },
        "id": "wRf6iojonsIv",
        "outputId": "ba90f9e3-19b2-44ad-e012-48e4bb56a534"
      },
      "outputs": [
        {
          "data": {
            "text/plain": [
              "array([0.14505727, 0.14573367, 0.14641373, 0.14709748, 0.14778495,\n",
              "       0.14847615, 0.14917112, 0.14986988, 0.15057246, 0.15127887,\n",
              "       0.15198915, 0.15270332, 0.15342141, 0.15414344, 0.15486945,\n",
              "       0.15559945, 0.15633347, 0.15707155, 0.1578137 , 0.15855996,\n",
              "       0.15931036, 0.16006492, 0.16082366, 0.16158663, 0.16235384,\n",
              "       0.16312534, 0.16390113, 0.16468126, 0.16546576, 0.16625466,\n",
              "       0.16704797, 0.16784575, 0.16864801, 0.16945478, 0.17026611,\n",
              "       0.17108202, 0.17190253, 0.17272769, 0.17355753, 0.17439208,\n",
              "       0.17523136, 0.17607542, 0.17692429, 0.177778  , 0.17863658,\n",
              "       0.17950007, 0.18036851, 0.18124192, 0.18212035, 0.18300383,\n",
              "       0.18389239, 0.18478607, 0.1856849 , 0.18658893, 0.18749819,\n",
              "       0.18841271, 0.18933254, 0.19025771, 0.19118826, 0.19212423,\n",
              "       0.19306565, 0.19401257, 0.19496503, 0.19592306, 0.1968867 ,\n",
              "       0.197856  ])"
            ]
          },
          "execution_count": 8,
          "metadata": {},
          "output_type": "execute_result"
        }
      ],
      "source": [
        "best_est_m_ns"
      ]
    },
    {
      "cell_type": "markdown",
      "metadata": {
        "id": "VTZUYX4dPJfk"
      },
      "source": [
        "### 2.1.2 Best-estimate prices: male + smoker <a name=\"two-one-two\"></a>"
      ]
    },
    {
      "cell_type": "markdown",
      "metadata": {
        "id": "KrTgWpvwo4dD"
      },
      "source": [
        "In this section, we calculate the expected claim frequencies (across the three claim types) for male and smoker policyholders: \n",
        "* $\\lambda_{1}(X_{1},X_{2} = s,D = m)$ \n",
        "* $\\lambda_{2}(X_{1},X_{2} = s,D = m)$ \n",
        "* $\\lambda_{3}(X_{1},X_{2} = s,D = m)$."
      ]
    },
    {
      "cell_type": "code",
      "execution_count": null,
      "metadata": {
        "id": "iuW0DbX0PJfk"
      },
      "outputs": [],
      "source": [
        "type1_m_s = np.exp(-40)\n",
        "type2_m_s = np.exp(-2 + 0.004*age_range + 0.1)\n",
        "type3_m_s = np.exp(-2 + 0.01*age_range)"
      ]
    },
    {
      "cell_type": "code",
      "execution_count": null,
      "metadata": {
        "colab": {
          "base_uri": "https://localhost:8080/"
        },
        "id": "j9Kf7gWzPJfk",
        "outputId": "17cd1c52-1ebc-4222-9d51-5b4fabed16ef"
      },
      "outputs": [
        {
          "name": "stdout",
          "output_type": "stream",
          "text": [
            "() (66,) (66,)\n"
          ]
        }
      ],
      "source": [
        "print(type1_m_s.shape, type2_m_s.shape, type3_m_s.shape)"
      ]
    },
    {
      "cell_type": "markdown",
      "metadata": {
        "id": "7AsATaCmo-kL"
      },
      "source": [
        "Furthermore, the best-estimate price for male smoking subjects is given by summing together the (deterministic) claim costs times the expected frequency across claim types:"
      ]
    },
    {
      "cell_type": "markdown",
      "metadata": {
        "id": "2YGWBaoJcQEu"
      },
      "source": [
        "$$\\mu{(X_{1},X_{2} = s,D = m)} = C_{1}\\lambda_{1}(X_{1},X_{2} = s,D = m) + C_{2}\\lambda_{2}(X_{1},X_{2} = s,D = m) + C_{3}\\lambda_{3}(X_{1},X_{2} = s,D = m).$$"
      ]
    },
    {
      "cell_type": "code",
      "execution_count": null,
      "metadata": {
        "id": "6RdJgEYcPJfl"
      },
      "outputs": [],
      "source": [
        "best_est_m_s = 0.5*type1_m_s + 0.9*type2_m_s + 0.1*type3_m_s"
      ]
    },
    {
      "cell_type": "code",
      "execution_count": null,
      "metadata": {
        "colab": {
          "base_uri": "https://localhost:8080/"
        },
        "id": "WaOzNrM_pHwi",
        "outputId": "1e340b50-d785-475d-c956-7fdf6e52043b"
      },
      "outputs": [
        {
          "data": {
            "text/plain": [
              "array([0.1586594 , 0.15939031, 0.16012511, 0.16086382, 0.16160646,\n",
              "       0.16235306, 0.16310365, 0.16385825, 0.16461689, 0.1653796 ,\n",
              "       0.16614639, 0.16691731, 0.16769237, 0.1684716 , 0.16925503,\n",
              "       0.17004268, 0.1708346 , 0.17163079, 0.1724313 , 0.17323615,\n",
              "       0.17404537, 0.17485898, 0.17567703, 0.17649953, 0.17732651,\n",
              "       0.17815801, 0.17899406, 0.17983469, 0.18067992, 0.18152979,\n",
              "       0.18238433, 0.18324357, 0.18410755, 0.18497629, 0.18584982,\n",
              "       0.18672819, 0.18761141, 0.18849954, 0.18939259, 0.1902906 ,\n",
              "       0.19119361, 0.19210164, 0.19301475, 0.19393294, 0.19485628,\n",
              "       0.19578478, 0.19671848, 0.19765743, 0.19860165, 0.19955118,\n",
              "       0.20050606, 0.20146633, 0.20243202, 0.20340317, 0.20437982,\n",
              "       0.20536201, 0.20634977, 0.20734314, 0.20834217, 0.20934689,\n",
              "       0.21035735, 0.21137357, 0.21239561, 0.2134235 , 0.21445729,\n",
              "       0.21549701])"
            ]
          },
          "execution_count": 12,
          "metadata": {},
          "output_type": "execute_result"
        }
      ],
      "source": [
        "best_est_m_s "
      ]
    },
    {
      "cell_type": "markdown",
      "metadata": {
        "id": "xzUghap-PJfl"
      },
      "source": [
        "### 2.1.3 Best-estimate prices: female + non-smoker <a name=\"two-one-three\"></a>"
      ]
    },
    {
      "cell_type": "markdown",
      "metadata": {
        "id": "wc92Ac7XpVtX"
      },
      "source": [
        "In this section, we calculate the expected claim frequencies (across the three claim types) for female and non-smoking policyholders: \n",
        "* $\\lambda_{1}(X_{1},X_{2} = ns,D = f)$ \n",
        "* $\\lambda_{2}(X_{1},X_{2} = ns,D = f)$ \n",
        "* $\\lambda_{3}(X_{1},X_{2} = ns,D = f).$ "
      ]
    },
    {
      "cell_type": "code",
      "execution_count": null,
      "metadata": {
        "id": "Z5DiSbssPJfl"
      },
      "outputs": [],
      "source": [
        "type1_f_ns = np.exp(-40 + 38.5*pregnant_age_range)\n",
        "type2_f_ns = np.exp(-2 + 0.004*age_range + 0.2)\n",
        "type3_f_ns = np.exp(-2 + 0.01*age_range)"
      ]
    },
    {
      "cell_type": "code",
      "execution_count": null,
      "metadata": {
        "colab": {
          "base_uri": "https://localhost:8080/"
        },
        "id": "v3okCVpDPJfl",
        "outputId": "dd57b149-7c66-495b-a935-1c427246924e"
      },
      "outputs": [
        {
          "name": "stdout",
          "output_type": "stream",
          "text": [
            "(66,) (66,) (66,)\n"
          ]
        }
      ],
      "source": [
        "print(type1_f_ns.shape, type2_f_ns.shape, type3_f_ns.shape)"
      ]
    },
    {
      "cell_type": "markdown",
      "metadata": {
        "id": "blB-C6GqpbsF"
      },
      "source": [
        "Furthermore, the best-estimate price for female non-smoking subjects is given by summing together the (deterministic) claim costs times the expected frequency across claim types:"
      ]
    },
    {
      "cell_type": "markdown",
      "metadata": {
        "id": "PEFNl254cQEv"
      },
      "source": [
        "$$\\mu{(X_{1},X_{2} = ns,D = f)} = C_{1}\\lambda_{1}(X_{1},X_{2} = ns,D = f) + C_{2}\\lambda_{2}(X_{1},X_{2} = ns,D = f) + C_{3}\\lambda_{3}(X_{1},X_{2} = ns,D = f).$$"
      ]
    },
    {
      "cell_type": "code",
      "execution_count": null,
      "metadata": {
        "id": "GE8okpUtPJfm"
      },
      "outputs": [],
      "source": [
        "best_est_f_ns = 0.5*type1_f_ns + 0.9*type2_f_ns + 0.1*type3_f_ns"
      ]
    },
    {
      "cell_type": "code",
      "execution_count": null,
      "metadata": {
        "colab": {
          "base_uri": "https://localhost:8080/"
        },
        "id": "fj81dFb5pkjS",
        "outputId": "2aca0e1a-e7d1-4557-e93a-af7e0ad49845"
      },
      "outputs": [
        {
          "data": {
            "text/plain": [
              "array([0.17369208, 0.17448324, 0.17527853, 0.17607798, 0.1768816 ,\n",
              "       0.2892545 , 0.29006656, 0.29088288, 0.29170348, 0.29252839,\n",
              "       0.29335765, 0.29419127, 0.29502929, 0.29587173, 0.29671863,\n",
              "       0.29757001, 0.2984259 , 0.29928633, 0.30015133, 0.30102093,\n",
              "       0.30189515, 0.30277404, 0.30365761, 0.3045459 , 0.30543895,\n",
              "       0.30633677, 0.19567433, 0.19658181, 0.19749416, 0.19841142,\n",
              "       0.19933363, 0.2002608 , 0.20119298, 0.2021302 , 0.20307249,\n",
              "       0.20401988, 0.20497241, 0.20593012, 0.20689303, 0.20786119,\n",
              "       0.20883462, 0.20981336, 0.21079745, 0.21178692, 0.21278181,\n",
              "       0.21378216, 0.214788  , 0.21579937, 0.2168163 , 0.21783884,\n",
              "       0.21886702, 0.21990088, 0.22094045, 0.22198579, 0.22303691,\n",
              "       0.22409388, 0.22515672, 0.22622547, 0.22730018, 0.22838088,\n",
              "       0.22946762, 0.23056044, 0.23165938, 0.23276448, 0.23387579,\n",
              "       0.23499334])"
            ]
          },
          "execution_count": 16,
          "metadata": {},
          "output_type": "execute_result"
        }
      ],
      "source": [
        "best_est_f_ns"
      ]
    },
    {
      "cell_type": "markdown",
      "metadata": {
        "id": "2OMUkmmMPJfm"
      },
      "source": [
        "### 2.1.4 Best-estimate prices: female + smoker <a name=\"two-one-four\"></a>"
      ]
    },
    {
      "cell_type": "markdown",
      "metadata": {
        "id": "zpQ5Fj8tpl8y"
      },
      "source": [
        "In this section, we calculate the expected claim frequencies (across the three claim types) for female and smoking policyholders: \n",
        "* $\\lambda_{1}(X_{1},X_{2} = s,D = f)$ \n",
        "* $\\lambda_{2}(X_{1},X_{2} = s,D = f)$ \n",
        "* $\\lambda_{3}(X_{1},X_{2} = s,D = f).$ "
      ]
    },
    {
      "cell_type": "code",
      "execution_count": null,
      "metadata": {
        "id": "wnTDdrCXPJfm"
      },
      "outputs": [],
      "source": [
        "type1_f_s = np.exp(-40 + 38.5*pregnant_age_range)\n",
        "type2_f_s = np.exp(-2 + 0.004*age_range + 0.1 + 0.2)\n",
        "type3_f_s = np.exp(-2 + 0.01*age_range)"
      ]
    },
    {
      "cell_type": "code",
      "execution_count": null,
      "metadata": {
        "colab": {
          "base_uri": "https://localhost:8080/"
        },
        "id": "j50-MUfVpve4",
        "outputId": "6b7b170d-bbcb-4f4f-e5de-7e0ae54d35c8"
      },
      "outputs": [
        {
          "name": "stdout",
          "output_type": "stream",
          "text": [
            "(66,) (66,) (66,)\n"
          ]
        }
      ],
      "source": [
        "print(type1_f_s.shape, type2_f_s.shape, type3_f_s.shape)"
      ]
    },
    {
      "cell_type": "markdown",
      "metadata": {
        "id": "q15k8zd6pugz"
      },
      "source": [
        "Furthermore, the best-estimate price for female smoking subjects is given by summing together the (deterministic) claim costs times the expected frequency across claim types:"
      ]
    },
    {
      "cell_type": "markdown",
      "metadata": {
        "id": "UiKOQcHKcQEx"
      },
      "source": [
        "$$\\mu{(X_{1},X_{2} = s,D = f)} = C_{1}\\lambda_{1}(X_{1},X_{2} = s,D = f) + C_{2}\\lambda_{2}(X_{1},X_{2} = s,D = f) + C_{3}\\lambda_{3}(X_{1},X_{2} = s,D = f).$$"
      ]
    },
    {
      "cell_type": "code",
      "execution_count": null,
      "metadata": {
        "id": "PvCoqvcEPJfm"
      },
      "outputs": [],
      "source": [
        "best_est_f_s = 0.5*type1_f_s + 0.9*type2_f_s + 0.1*type3_f_s"
      ]
    },
    {
      "cell_type": "code",
      "execution_count": null,
      "metadata": {
        "colab": {
          "base_uri": "https://localhost:8080/"
        },
        "id": "rcKHM-DdpvLv",
        "outputId": "2d895912-58b1-4a67-a5ed-835d032f9ef6"
      },
      "outputs": [
        {
          "data": {
            "text/plain": [
              "array([0.19030575, 0.19116351, 0.19202565, 0.19289222, 0.19376323,\n",
              "       0.3062038 , 0.30708379, 0.30796831, 0.30885739, 0.30975106,\n",
              "       0.31064934, 0.31155227, 0.31245987, 0.31337218, 0.31428922,\n",
              "       0.31521102, 0.31613762, 0.31706903, 0.31800531, 0.31894646,\n",
              "       0.31989254, 0.32084355, 0.32179955, 0.32276056, 0.3237266 ,\n",
              "       0.32469772, 0.21410887, 0.21509024, 0.21607677, 0.21706852,\n",
              "       0.2180655 , 0.21906775, 0.22007531, 0.2210882 , 0.22210648,\n",
              "       0.22313016, 0.22415929, 0.22519389, 0.22623402, 0.22727969,\n",
              "       0.22833095, 0.22938783, 0.23045038, 0.23151862, 0.23259259,\n",
              "       0.23367234, 0.2347579 , 0.23584931, 0.2369466 , 0.23804982,\n",
              "       0.23915901, 0.2402742 , 0.24139543, 0.24252275, 0.24365619,\n",
              "       0.24479579, 0.24594161, 0.24709367, 0.24825201, 0.24941669,\n",
              "       0.25058775, 0.25176522, 0.25294914, 0.25413958, 0.25533655,\n",
              "       0.25654012])"
            ]
          },
          "execution_count": 20,
          "metadata": {},
          "output_type": "execute_result"
        }
      ],
      "source": [
        "best_est_f_s"
      ]
    },
    {
      "cell_type": "markdown",
      "metadata": {
        "id": "4l8IzMGKPJfn"
      },
      "source": [
        "### 2.1.5 Plot best-estimate prices: smoker vs non-smoker <a name=\"two-one-five\"></a>"
      ]
    },
    {
      "cell_type": "code",
      "execution_count": null,
      "metadata": {
        "id": "AFRS14tLPJfn"
      },
      "outputs": [],
      "source": [
        "data_preproc_best_ns = pd.DataFrame({\n",
        "    'age': age_range, \n",
        "    'best-estimate price non-smoking men': best_est_m_ns,\n",
        "    'best-estimate price non-smoking women': best_est_f_ns})\n",
        "\n",
        "data_preproc_best_s = pd.DataFrame({\n",
        "    'age': age_range,\n",
        "    'best-estimate price smoking men': best_est_m_s,\n",
        "    'best_estimate price smoking women': best_est_f_s})"
      ]
    },
    {
      "cell_type": "code",
      "execution_count": null,
      "metadata": {
        "colab": {
          "base_uri": "https://localhost:8080/",
          "height": 693
        },
        "id": "ZT3Kna_YPJfn",
        "outputId": "50a7976e-1fbc-4e6c-c85c-7fa97ae0e882"
      },
      "outputs": [
        {
          "data": {
            "text/plain": [
              "[(0.13, 0.33)]"
            ]
          },
          "execution_count": 22,
          "metadata": {},
          "output_type": "execute_result"
        },
        {
          "data": {
            "image/png": "[encoded data removed]",
            "text/plain": [
              "<Figure size 1440x864 with 2 Axes>"
            ]
          },
          "metadata": {},
          "output_type": "display_data"
        }
      ],
      "source": [
        "%matplotlib inline\n",
        "\n",
        "sns.set(rc={'figure.figsize':(20,12)})\n",
        "\n",
        "f, axes = plt.subplots(1, 2)\n",
        "\n",
        "plot_1 = sns.lineplot(x='age', y='value', hue='variable', \n",
        "             data=pd.melt(data_preproc_best_s, ['age']), ax = axes[0])\n",
        "plot_1.set_title('smokers')\n",
        "plot_1.set(ylim=(0.13, 0.33))\n",
        "\n",
        "sns.set_palette(\"husl\")\n",
        "plot_2 = sns.lineplot(x='age', y='value', hue='variable', \n",
        "             data=pd.melt(data_preproc_best_ns, ['age']), ax = axes[1])\n",
        "plot_2.set_title('non-smokers')\n",
        "plot_2.set(ylim=(0.13, 0.33))"
      ]
    },
    {
      "cell_type": "markdown",
      "metadata": {
        "id": "l9gN99vdcQEz"
      },
      "source": [
        "The plot shows the best-estimate prices for all the risk profiles in our portfolio. As we would expect, they discriminate between genders, with the best-estimate price for a female policyholder being higher than the price for a male subject (ceteris paribus). "
      ]
    },
    {
      "cell_type": "markdown",
      "metadata": {
        "id": "1LDn78oJPJfo",
        "tags": []
      },
      "source": [
        "## 2.2 Unawareness prices <a name=\"two-two\"></a>"
      ]
    },
    {
      "cell_type": "markdown",
      "metadata": {
        "id": "8o6Aw3rg9XOb"
      },
      "source": [
        "A first attempt to calculate discrimination-free prices would be fitting a regression model without using any of the protected features as risk factors. Therefore, the **unawareness price** is defined as:"
      ]
    },
    {
      "cell_type": "markdown",
      "metadata": {
        "id": "brMyNbp2cQEz"
      },
      "source": [
        "$$\\mu{(\\textbf{X})} = \\mathbb{E}\\left[Y|\\textbf{X}\\right].$$"
      ]
    },
    {
      "cell_type": "markdown",
      "metadata": {
        "id": "8i7Cb8kaPJfo"
      },
      "source": [
        "As this price does not explicitly depend on the protected features $D$, it avoids direct discrimination. However, although direct discrimination is avoided, the unawareness price might still be subject to **indirect discrimination** (by proxies). We can derive the unawareness prices by dropping the protected feature $D$ from the best-estimate prices:"
      ]
    },
    {
      "cell_type": "markdown",
      "metadata": {
        "id": "5Z6mKAIEcQEz"
      },
      "source": [
        "$$\\mu(\\textbf{X})= \\mathbb{E}[Y|\\textbf{X}] = \\sum_{d}\\mathbb{E}[Y|\\textbf{X},D=d] \\cdot P(D=d|\\textbf{X}).$$"
      ]
    },
    {
      "cell_type": "markdown",
      "metadata": {
        "id": "WWXgHRdCPJfo"
      },
      "source": [
        "The unawareness prices require additional information about the following conditional probabilities:\n",
        "\n",
        "$$P(D=d|\\textbf{X} = \\textbf{x}) = \\frac{P(D=d,\\textbf{X} = \\textbf{x})}{P(\\textbf{X}=\\textbf{x})}.$$\n"
      ]
    },
    {
      "cell_type": "markdown",
      "metadata": {
        "id": "Og1BnsBXcQE0"
      },
      "source": [
        "After the exclusion of the protected feature, the conditional probability enables inference of the protected feature $D$ from the unprotected features $\\textbf{X}$ that remain in the model. The only way the unawareness price does avoid indirect discrimination is when $\\textbf{X}$ and $D$ are independent. This would mean that there is no way to infer information about the protected features from the unprotected ones. It then holds that $P(D=d|\\textbf{X}) = P(D=d)$. "
      ]
    },
    {
      "cell_type": "markdown",
      "metadata": {
        "id": "i-09yG5FcQE0"
      },
      "source": [
        "An intuitive interpretation for the above arises from econometrics theory. The **omitted variable bias** arises when the features included in the model $\\textbf{X}$ are correlated with the omitted features $\\textbf{Z}$. Let's assume that the true model for the response $Y$ is described by the following equation, where $\\textbf{X}$ and $\\textbf{Z}$ are two sets of unprotected and protected features, respectively. Moreover, we assume that $\\mathbb{E}[\\epsilon|\\textbf{X},\\textbf{Z}] = 0$ and $Cov(\\textbf{X},\\textbf{Z}) \\neq 0$:"
      ]
    },
    {
      "cell_type": "markdown",
      "metadata": {
        "id": "S5Oa-TaFcQE0"
      },
      "source": [
        "$$Y=\\textbf{X}\\beta + \\textbf{Z}\\gamma + \\epsilon$$"
      ]
    },
    {
      "cell_type": "markdown",
      "metadata": {
        "id": "C-AFSG_PcQE0"
      },
      "source": [
        "We fit a (linear) model uniquely including the unprotected features $\\textbf{X}$. That is: we reason along the unawareness pricing principle:"
      ]
    },
    {
      "cell_type": "markdown",
      "metadata": {
        "id": "fwB5QXCOcQE0"
      },
      "source": [
        "$$Y=\\textbf{X}\\beta + \\nu$$"
      ]
    },
    {
      "cell_type": "markdown",
      "metadata": {
        "id": "W32e0SHncQE0"
      },
      "source": [
        "The OLS estimator of $\\beta$ is:"
      ]
    },
    {
      "cell_type": "markdown",
      "metadata": {
        "id": "qmlwEc04cQE1"
      },
      "source": [
        "$$\\hat{\\beta} = (\\textbf{X}^{T}\\textbf{X})^{-1}\\textbf{X}^{T}Y = (\\textbf{X}^{T}\\textbf{X})^{-1}\\textbf{X}^{T}[\\textbf{X}\\beta + \\textbf{Z}\\gamma + \\epsilon] = \\beta + (\\textbf{X}^{T}\\textbf{X})^{-1}\\textbf{X}^{T}\\textbf{Z}\\gamma + (\\textbf{X}^{T}\\textbf{X})^{-1}\\textbf{X}^{T}\\epsilon $$"
      ]
    },
    {
      "cell_type": "markdown",
      "metadata": {
        "id": "A6dmbRNlcQE1"
      },
      "source": [
        "The expectation of $\\hat{\\beta}$ conditional on $\\textbf{X}$ is:"
      ]
    },
    {
      "cell_type": "markdown",
      "metadata": {
        "id": "tB4lfEp9cQE1"
      },
      "source": [
        "$$\\mathbb{E}[\\hat{\\beta}|\\textbf{X}] = \\beta + (\\textbf{X}^{T}\\textbf{X})^{-1}\\textbf{X}^{T}\\textbf{Z}\\gamma + 0$$"
      ]
    },
    {
      "cell_type": "markdown",
      "metadata": {
        "id": "FPCWe58FcQE1"
      },
      "source": [
        "We observe that the conditional expectation of $\\hat{\\beta}$ given $\\textbf{X}$ is not centered on the actual value of $\\beta$, and therefore is biased. The included variables $\\textbf{X}$ will partially proxy for\n",
        "the omitted characteristics $\\textbf{Z}$ and the estimated impact of the included variables will be\n",
        "biased. This is not true in two cases:\n",
        "* $\\gamma = 0$, which means that the coefficients related to the protected variables would be zero. Therefore, the protected features $\\textbf{Z}$ do not have any explanatory power with respect to $Y$\n",
        "* $\\textbf{X}^{T}\\textbf{Z} = 0$, which means that unprotected and protected features are not correlated."
      ]
    },
    {
      "cell_type": "markdown",
      "metadata": {
        "id": "QX-dpwrGPJfo"
      },
      "source": [
        "### 2.2.1 Unawareness prices: smoker <a name=\"two-two-one\"></a>"
      ]
    },
    {
      "cell_type": "markdown",
      "metadata": {
        "id": "L0v_eV1vcQE1"
      },
      "source": [
        "Recalling that we defined $X_{1}$ (age), $X_{2}$ (smoking habits) as unprotected features, and $D$ (gender) as protected feature, we can consider the following conditional probability: "
      ]
    },
    {
      "cell_type": "markdown",
      "metadata": {
        "id": "09QzD_LucQE1"
      },
      "source": [
        "$$P(D=d|\\textbf{X}) = \\frac{P(D=d,\\textbf{X=x})}{P(\\textbf{X=x})} = \\frac{P(D=d,X_{1}=x_{1},X_{2}=x_{2})}{P(X_{1}=x_{1},X_{2}=x_{2})}.$$"
      ]
    },
    {
      "cell_type": "markdown",
      "metadata": {
        "id": "wk5_4EdhcQE2"
      },
      "source": [
        "Assuming that $X_{1} \\perp (X_{2},D)$, we have:\n",
        "$$P(D=d|\\textbf{X}) = \\frac{P(D=d,X_{2}=x_{2})\\cdot P(X_{1}=x_{1})}{P(X_{1}=x_{1})\\cdot P(X_{2}=x_{2})} = \\frac{P(D=d,X_{2} = x_{2})}{P(X_{2} = x_{2})} = P(D=d|X_{2}).$$"
      ]
    },
    {
      "cell_type": "markdown",
      "metadata": {
        "id": "2qJqmfwPXzKV"
      },
      "source": [
        "Moreover, we assume that relevant probabilities are assigned the following values:\n",
        "* $P(D=female)=0.45$\n",
        "* $P(X_{2}=smoker)=0.3$\n",
        "* $P(D=female|X_{2}=smoker)=0.8.$"
      ]
    },
    {
      "cell_type": "markdown",
      "metadata": {
        "id": "oSTuBBRqJcJm"
      },
      "source": [
        "In this section, we want to drop the protected feature $D$ (gender) from the calculations. The **unawareness price** for a policyholder **with smoking habits** is defined as: "
      ]
    },
    {
      "cell_type": "markdown",
      "metadata": {
        "id": "NCPsaxTwPJfo"
      },
      "source": [
        "$$\\mu_{s}(\\textbf{X})=\\sum_{d\\in{male,female}}[C_{1}\\lambda_{1}(X_{1},X_{2}=s,d)+C_{2}\\lambda_{2}(X_{1},X_{2}=s,d)+C_{3}\\lambda_{3}(X_{1},X_{2}=s,d)]\\cdot P(D=d|X_{2}=s).$$"
      ]
    },
    {
      "cell_type": "code",
      "execution_count": null,
      "metadata": {
        "id": "0hYwzlGaPJfp"
      },
      "outputs": [],
      "source": [
        "smoker_prob = 0.3\n",
        "female_smoker_prob = 0.8\n",
        "female_prob = 0.45\n",
        "male_prob = 1-female_prob\n",
        "female_nonsmoker_prob = (female_prob - female_smoker_prob * smoker_prob) / (1 - smoker_prob)"
      ]
    },
    {
      "cell_type": "code",
      "execution_count": null,
      "metadata": {
        "colab": {
          "base_uri": "https://localhost:8080/"
        },
        "id": "9RnP2r-DPJfp",
        "outputId": "2e3dccce-1938-4553-c0b8-69fe2d8adc74"
      },
      "outputs": [
        {
          "name": "stdout",
          "output_type": "stream",
          "text": [
            "female given smoker 0.8, female given nonsmoker 0.30000000000000004\n"
          ]
        }
      ],
      "source": [
        "print(f'female given smoker {female_smoker_prob}, female given nonsmoker {female_nonsmoker_prob}')"
      ]
    },
    {
      "cell_type": "code",
      "execution_count": null,
      "metadata": {
        "id": "yi8kJAddPJfp"
      },
      "outputs": [],
      "source": [
        "type1_unaware_s = type1_f_s*female_smoker_prob + type1_m_s*(1-female_smoker_prob)\n",
        "type2_unaware_s = type2_f_s*female_smoker_prob + type2_m_s*(1-female_smoker_prob)\n",
        "type3_unaware_s = type3_f_s*female_smoker_prob + type3_m_s*(1-female_smoker_prob)"
      ]
    },
    {
      "cell_type": "code",
      "execution_count": null,
      "metadata": {
        "id": "SLIVxmtPPJfq"
      },
      "outputs": [],
      "source": [
        "unawareness_price_s = 0.5*type1_unaware_s + 0.9*type2_unaware_s + 0.1*type3_unaware_s"
      ]
    },
    {
      "cell_type": "code",
      "execution_count": null,
      "metadata": {
        "colab": {
          "base_uri": "https://localhost:8080/"
        },
        "id": "1Ymqr9LJbOCQ",
        "outputId": "faa22219-6b4c-44c0-eddf-c1bfdb9e0625"
      },
      "outputs": [
        {
          "data": {
            "text/plain": [
              "array([0.18397648, 0.18480887, 0.18564554, 0.18648654, 0.18733188,\n",
              "       0.27743365, 0.27828776, 0.2791463 , 0.28000929, 0.28087677,\n",
              "       0.28174875, 0.28262528, 0.28350637, 0.28439206, 0.28528238,\n",
              "       0.28617735, 0.28707701, 0.28798139, 0.28889051, 0.2898044 ,\n",
              "       0.2907231 , 0.29164664, 0.29257504, 0.29350835, 0.29444658,\n",
              "       0.29538978, 0.20708591, 0.20803913, 0.2089974 , 0.20996077,\n",
              "       0.21092926, 0.21190291, 0.21288175, 0.21386582, 0.21485515,\n",
              "       0.21584977, 0.21684971, 0.21785502, 0.21886573, 0.21988187,\n",
              "       0.22090348, 0.22193059, 0.22296325, 0.22400148, 0.22504533,\n",
              "       0.22609483, 0.22715002, 0.22821093, 0.22927761, 0.2303501 ,\n",
              "       0.23142842, 0.23251262, 0.23360275, 0.23469883, 0.23580092,\n",
              "       0.23690904, 0.23802324, 0.23914356, 0.24027005, 0.24140273,\n",
              "       0.24254167, 0.24368689, 0.24483844, 0.24599636, 0.2471607 ,\n",
              "       0.2483315 ])"
            ]
          },
          "execution_count": 36,
          "metadata": {},
          "output_type": "execute_result"
        }
      ],
      "source": [
        "unawareness_price_s"
      ]
    },
    {
      "cell_type": "markdown",
      "metadata": {
        "id": "Rxmt2DQ4PJfq"
      },
      "source": [
        "### 2.2.2 Unawareness prices: non-smoker <a name=\"two-two-two\"></a>"
      ]
    },
    {
      "cell_type": "markdown",
      "metadata": {
        "id": "IbxkcuMvcQE4"
      },
      "source": [
        "Recalling that we defined $X_{1}$ (age), $X_{2}$ (smoking habits) as unprotected features, and $D$ (gender) as protected feature, we can consider the following conditional probability: "
      ]
    },
    {
      "cell_type": "markdown",
      "metadata": {
        "id": "XgIvdWXNcQE4"
      },
      "source": [
        "$$P(D=d|\\textbf{X}) = \\frac{P(D=d,\\textbf{X=x})}{P(\\textbf{X=x})} = \\frac{P(D=d,X_{1}=x_{1},X_{2}=x_{2})}{P(X_{1}=x_{1},X_{2}=x_{2})}.$$"
      ]
    },
    {
      "cell_type": "markdown",
      "metadata": {
        "id": "xKb6ObYIYhbo"
      },
      "source": [
        "We assume that $X_{1} \\perp (X_{2},D):$\n",
        "$$P(D=d|\\textbf{X}) = \\frac{P(D=d,\\textbf{X=x})}{P(\\textbf{X=x})} = \\frac{P(D=d,X_{2} = x_{2})}{P(X_{2} = x_{2})} = P(D=d|X_{2}).$$"
      ]
    },
    {
      "cell_type": "markdown",
      "metadata": {
        "id": "PkxgR8hWYheh"
      },
      "source": [
        "Moreover, we assume that relevant probabilities are assigned the following values:\n",
        "* $P(D=female)=0.45$\n",
        "* $P(X_{2}=smoker)=0.3$\n",
        "* $P(D=female|X_{2}=non-smoker)=0.3$."
      ]
    },
    {
      "cell_type": "markdown",
      "metadata": {
        "id": "oDThuXVqYpKp"
      },
      "source": [
        "In this section, we want to drop the protected feature $D$ (gender) from the calculations. The **unawareness price** for a policyholder **without smoking habits** is defined as: "
      ]
    },
    {
      "cell_type": "markdown",
      "metadata": {
        "id": "ufQ6z34pPJfq"
      },
      "source": [
        "$$\\mu_{ns}(\\textbf{X})=\\sum_{d\\in{male,female}}[C_{1}\\lambda_{1}(X_{1},X_{2}=ns,d)+C_{2}\\lambda_{2}(X_{1},X_{2}=ns,d)+C_{3}\\lambda_{3}(X_{1},X_{2}=ns,d)]\\cdot P(D=d|X_{2}=ns).$$"
      ]
    },
    {
      "cell_type": "code",
      "execution_count": null,
      "metadata": {
        "id": "bbSYbJUQPJfq"
      },
      "outputs": [],
      "source": [
        "type1_unaware_ns = type1_f_ns*female_nonsmoker_prob + type1_m_ns*(1-female_nonsmoker_prob)\n",
        "type2_unaware_ns = type2_f_ns*female_nonsmoker_prob + type2_m_ns*(1-female_nonsmoker_prob)\n",
        "type3_unaware_ns = type3_f_ns*female_nonsmoker_prob + type3_m_ns*(1-female_nonsmoker_prob)"
      ]
    },
    {
      "cell_type": "code",
      "execution_count": null,
      "metadata": {
        "id": "AfUabTUDPJfr"
      },
      "outputs": [],
      "source": [
        "unawareness_price_ns = 0.5*type1_unaware_ns + 0.9*type2_unaware_ns + 0.1*type3_unaware_ns"
      ]
    },
    {
      "cell_type": "code",
      "execution_count": null,
      "metadata": {
        "colab": {
          "base_uri": "https://localhost:8080/"
        },
        "id": "SpbtzQ8dbPMr",
        "outputId": "d8740158-ed22-49ec-e9c4-37b6412943c8"
      },
      "outputs": [
        {
          "data": {
            "text/plain": [
              "array([0.15364771, 0.15435854, 0.15507317, 0.15579163, 0.15651394,\n",
              "       0.19070966, 0.19143976, 0.19217378, 0.19291176, 0.19365373,\n",
              "       0.1943997 , 0.19514971, 0.19590377, 0.19666193, 0.1974242 ,\n",
              "       0.19819062, 0.1989612 , 0.19973598, 0.20051499, 0.20129825,\n",
              "       0.2020858 , 0.20287765, 0.20367385, 0.20447441, 0.20527937,\n",
              "       0.20608877, 0.17343309, 0.17425143, 0.17507428, 0.17590169,\n",
              "       0.17673367, 0.17757026, 0.1784115 , 0.17925741, 0.18010802,\n",
              "       0.18096338, 0.1818235 , 0.18268842, 0.18355818, 0.18443281,\n",
              "       0.18531234, 0.1861968 , 0.18708624, 0.18798068, 0.18888015,\n",
              "       0.1897847 , 0.19069436, 0.19160916, 0.19252914, 0.19345433,\n",
              "       0.19438478, 0.19532051, 0.19626157, 0.19720799, 0.19815981,\n",
              "       0.19911706, 0.20007979, 0.20104804, 0.20202184, 0.20300122,\n",
              "       0.20398624, 0.20497693, 0.20597333, 0.20697548, 0.20798343,\n",
              "       0.2089972 ])"
            ]
          },
          "execution_count": 37,
          "metadata": {},
          "output_type": "execute_result"
        }
      ],
      "source": [
        "unawareness_price_ns"
      ]
    },
    {
      "cell_type": "markdown",
      "metadata": {
        "id": "g3_q1Rk8PJfr"
      },
      "source": [
        "## 2.3 Discrimination-free prices <a name=\"two-three\"></a>"
      ]
    },
    {
      "cell_type": "markdown",
      "metadata": {
        "id": "0nRB6CbSban9"
      },
      "source": [
        "According to **Lindholm et al.**, the **discimination-free price avoids both direct and indirect discrimination**. The proposed methodology averages the best-estimate prices over discriminatory covariates, using a (potentially arbitrary) marginal distribution $P^{*}(D = d)$. In our case $P^{*}(D = d)$ equals the empirical measure $P(D = d)$. Exploiting best-estimate prices, we can derive the discrimination-free prices as:"
      ]
    },
    {
      "cell_type": "markdown",
      "metadata": {
        "id": "VpE3qIYeft-A"
      },
      "source": [
        "$$h^{*}(\\textbf{X})=\\sum_{d}\\mathbb{E}[Y|\\textbf{X},D=d]\\cdot P^{*}(D=d).$$"
      ]
    },
    {
      "cell_type": "markdown",
      "metadata": {
        "id": "2bvoROTncQE6"
      },
      "source": [
        "The discrimination-free prices are obtained by re-weighting the best-estimate prices over the protected features. The protected feature $D$ is averaged out so that the price does not explicitly depend on $D$. Hence, it avoids direct discrimination. Additionally, non-protected features correlated with the omitted protected feature maintain their own predictive power and cannot serve as a proxy. Hence, the pricing procedure avoids indirect discrimination as well. If $\\textbf{X}$ and $D$ are independent, the discrimination-free price is equal to the unawareness price since we then have $P(D=d)=P(D=d|\\textbf{X})$ in the expression for the unawareness price."
      ]
    },
    {
      "cell_type": "markdown",
      "metadata": {
        "id": "wCcIJY_YPJfr"
      },
      "source": [
        "### 2.3.1 Discrimination-free prices: smoker <a name=\"two-three-one\"></a>"
      ]
    },
    {
      "cell_type": "markdown",
      "metadata": {
        "id": "ndaeaN-znjqM"
      },
      "source": [
        "We assume that relevant probabilities are assigned the following values:\n",
        "* $P(D=female)=0.45$\n",
        "* $P(D=male)=0.55$."
      ]
    },
    {
      "cell_type": "markdown",
      "metadata": {
        "id": "T8pfI4WvnvNW"
      },
      "source": [
        "The **discrimination-free price** for a policyholder **with smoking habits** is defined as: "
      ]
    },
    {
      "cell_type": "markdown",
      "metadata": {
        "id": "NZssqxrHPJfs"
      },
      "source": [
        "$$h^{*}_{s}(X)=\\sum_{d\\in{male,female}}[C_{1}\\lambda_{1}(X_{1},X_{2}=s,d)+C_{2}\\lambda_{2}(X_{1},X_{2}=s,d)+C_{3}\\lambda_{3}(X_{1},X_{2}=s,d)]\\cdot P(D=d).$$"
      ]
    },
    {
      "cell_type": "code",
      "execution_count": null,
      "metadata": {
        "id": "nodgTaCRPJfs"
      },
      "outputs": [],
      "source": [
        "type1_discr_free_s = type1_f_s*female_prob + type1_m_s*(1-female_prob)\n",
        "type2_discr_free_s = type2_f_s*female_prob + type2_m_s*(1-female_prob)\n",
        "type3_discr_free_s = type3_f_s*female_prob + type3_m_s*(1-female_prob)"
      ]
    },
    {
      "cell_type": "code",
      "execution_count": null,
      "metadata": {
        "id": "r9UO9y6VPJfs"
      },
      "outputs": [],
      "source": [
        "discr_free_price_s = 0.5*type1_discr_free_s + 0.9*type2_discr_free_s + 0.1*type3_discr_free_s"
      ]
    },
    {
      "cell_type": "markdown",
      "metadata": {
        "id": "PeDPGHiJPJfs"
      },
      "source": [
        "### 2.3.2 Discrimination-free prices: non-smoker <a name=\"two-three-two\"></a>"
      ]
    },
    {
      "cell_type": "markdown",
      "metadata": {
        "id": "pgZKALw-nqOz"
      },
      "source": [
        "We assume that relevant probabilities are assigned the following values:\n",
        "* $P(D=female)=0.45$\n",
        "* $P(D=male)=0.55$."
      ]
    },
    {
      "cell_type": "markdown",
      "metadata": {
        "id": "SgqCIiJwn70_"
      },
      "source": [
        "The **discrimination-free price** for a policyholder **without smoking habits** is defined as: "
      ]
    },
    {
      "cell_type": "markdown",
      "metadata": {
        "id": "hqL-B3I_PJfs"
      },
      "source": [
        "$$h^{*}_{ns}(X)=\\sum_{d\\in{male,female}}[C_{1}\\lambda_{1}(X_{1},X_{2}=ns,d)+C_{2}\\lambda_{2}(X_{1},X_{2}=ns,d)+C_{3}\\lambda_{3}(X_{1},X_{2}=ns,d)]\\cdot P(D=d).$$"
      ]
    },
    {
      "cell_type": "code",
      "execution_count": null,
      "metadata": {
        "id": "aVa-vHP1PJfs"
      },
      "outputs": [],
      "source": [
        "type1_discr_free_ns = type1_f_ns*female_prob + type1_m_ns*(1-female_prob)\n",
        "type2_discr_free_ns = type2_f_ns*female_prob + type2_m_ns*(1-female_prob)\n",
        "type3_discr_free_ns = type3_f_ns*female_prob + type3_m_ns*(1-female_prob)"
      ]
    },
    {
      "cell_type": "code",
      "execution_count": null,
      "metadata": {
        "id": "0qrqN7yDPJft"
      },
      "outputs": [],
      "source": [
        "discr_free_price_ns = 0.5*type1_discr_free_ns + 0.9*type2_discr_free_ns + 0.1*type3_discr_free_ns"
      ]
    },
    {
      "cell_type": "markdown",
      "metadata": {
        "id": "rFzov6v3PJft"
      },
      "source": [
        "## 2.4 Plot all technical prices <a name=\"two-three-two\"></a>"
      ]
    },
    {
      "cell_type": "code",
      "execution_count": null,
      "metadata": {
        "colab": {
          "base_uri": "https://localhost:8080/",
          "height": 708
        },
        "id": "8deZoOcoPJft",
        "outputId": "6f92a9cf-5ca4-441b-eed3-40bea33a9cdc"
      },
      "outputs": [
        {
          "data": {
            "text/plain": [
              "[(0.13, 0.33)]"
            ]
          },
          "execution_count": 42,
          "metadata": {},
          "output_type": "execute_result"
        },
        {
          "data": {
            "image/png": "[encoded data removed]",
            "text/plain": [
              "<Figure size 1440x864 with 2 Axes>"
            ]
          },
          "metadata": {},
          "output_type": "display_data"
        }
      ],
      "source": [
        "%matplotlib inline\n",
        "\n",
        "sns.set(rc={'figure.figsize':(20,12)})\n",
        "\n",
        "f, axes = plt.subplots(1, 2)\n",
        "\n",
        "\n",
        "data_preproc_ns = pd.DataFrame({\n",
        "    'age': age_range, \n",
        "    'best-estimate prices male': best_est_m_ns,\n",
        "    'best-estimate prices female': best_est_f_ns,\n",
        "    'unawarness prices': unawareness_price_ns,\n",
        "    'discrimination-free prices': discr_free_price_ns})\n",
        "\n",
        "data_preproc_s = pd.DataFrame({\n",
        "    'age': age_range, \n",
        "    'best-estimate prices male': best_est_m_s,\n",
        "    'best-estimate prices female': best_est_f_s,\n",
        "    'unawarness prices': unawareness_price_s,\n",
        "    'discrimination-free prices': discr_free_price_s})\n",
        "\n",
        "plot_1 = sns.lineplot(x='age', y='value', hue='variable', \n",
        "             data=pd.melt(data_preproc_s, ['age']), ax = axes[0])\n",
        "plot_1.set_title('smokers')\n",
        "plot_1.set(ylim=(0.13, 0.33))\n",
        "\n",
        "plot_2 = sns.lineplot(x='age', y='value', hue='variable', \n",
        "             data=pd.melt(data_preproc_ns, ['age']), ax = axes[1])\n",
        "plot_2.set_title('non-smokers')\n",
        "plot_2.set(ylim=(0.13, 0.33))"
      ]
    },
    {
      "cell_type": "markdown",
      "metadata": {
        "id": "dXVEoO_ZcQE8"
      },
      "source": [
        "The following points stand out from the plots:\n",
        "* for both **smokers** and **non-smokers**, best-estimate prices for males are linearly dependent on age. The best-estimate prices for females are higher because we assigned a higher probability of being female conditionally to having smoking habits. We also observe the effect of birth-related claims between 20 and 40\n",
        "* since we assumed that **most smokers are female**, the unawareness price for **smokers is close to the best-estimate price for female subjects. The model picked up this pattern, which produces a higher price for females**. The **non-smoker** case shows the opposite behavior, a clear effect of proxy discrimination\n",
        "* the discrimination-free prices for both **smokers** and **non-smokers** collocate between best-estimate prices for males and females. We notice that discrimination-free prices for smokers are higher than discrimination-free prices for non-smokers."
      ]
    },
    {
      "cell_type": "markdown",
      "metadata": {
        "id": "RpGVRl1EPJft"
      },
      "source": [
        "### 2.4.1 What happens to unawareness prices if we change $P(D=female|X_{2}=smoker)$? <a name=\"two-four-one\"></a>"
      ]
    },
    {
      "cell_type": "markdown",
      "metadata": {
        "id": "TAY6lx96cQE9"
      },
      "source": [
        "We change the assumption concerning the conditional probability of $D$ given $X_{2}$; keeping the rest of the other assumptions unchanged, we consider a situation in which most smokers are male subjects:\n",
        "* $P(D=female)=0.45$\n",
        "* $P(D=male)=0.55$\n",
        "* $P(D=female|X_{2}=smoker) = 0.2$."
      ]
    },
    {
      "cell_type": "markdown",
      "metadata": {
        "id": "GKF2i_BYWAH9"
      },
      "source": [
        "Furthermore, we assume that $X_{1} \\perp (X_{2},D):$\n",
        "$$P(D=d|\\textbf{X}) = \\frac{P(D=d,\\textbf{X=x})}{P(\\textbf{X=x})} = \\frac{P(D=d,X_{2} = x_{2})}{P(X_{2} = x_{2})} = P(D=d|X_{2}).$$"
      ]
    },
    {
      "cell_type": "markdown",
      "metadata": {
        "id": "Vz9NDCz5PJft"
      },
      "source": [
        "Similarly to what is illustrated in section 2.2, we calculate the unawareness prices by marginalizing out the protected feature $D$ (gender) from the best-estimate prices using the conditional distribution $P(D=d|\\textbf{X})$. The **unawareness price** for a policyholder **with smoking habits and non-smoking habits** is calculated."
      ]
    },
    {
      "cell_type": "code",
      "execution_count": null,
      "metadata": {
        "id": "brp8PC9qPJfu"
      },
      "outputs": [],
      "source": [
        "female_smoker_prob_2 = 0.2\n",
        "female_nonsmoker_prob_2 = (female_prob - female_smoker_prob_2 * smoker_prob) / (1 - smoker_prob)"
      ]
    },
    {
      "cell_type": "code",
      "execution_count": null,
      "metadata": {
        "id": "Lss7pS19PJfu",
        "outputId": "b49a50c1-0b45-4545-dff7-66aa97ec4846"
      },
      "outputs": [
        {
          "name": "stdout",
          "output_type": "stream",
          "text": [
            "female given smoker 0.2, female given nonsmoker 0.5571428571428572\n"
          ]
        }
      ],
      "source": [
        "print(f'female given smoker {female_smoker_prob_2}, female given nonsmoker {female_nonsmoker_prob_2}')"
      ]
    },
    {
      "cell_type": "code",
      "execution_count": null,
      "metadata": {
        "id": "7D3ZySEgPJfu"
      },
      "outputs": [],
      "source": [
        "type1_unaware_s_2 = type1_f_s*female_smoker_prob_2 + type1_m_s*(1-female_smoker_prob_2)\n",
        "type2_unaware_s_2 = type2_f_s*female_smoker_prob_2 + type2_m_s*(1-female_smoker_prob_2)\n",
        "type3_unaware_s_2 = type3_f_s*female_smoker_prob_2 + type3_m_s*(1-female_smoker_prob_2)"
      ]
    },
    {
      "cell_type": "code",
      "execution_count": null,
      "metadata": {
        "id": "Cfr0C0s2PJfu"
      },
      "outputs": [],
      "source": [
        "unawareness_price_s_2 = 0.5*type1_unaware_s_2 + 0.9*type2_unaware_s_2 + 0.1*type3_unaware_s_2"
      ]
    },
    {
      "cell_type": "code",
      "execution_count": null,
      "metadata": {
        "id": "J84KiupSPJfu"
      },
      "outputs": [],
      "source": [
        "type1_unaware_ns_2 = type1_f_ns*female_nonsmoker_prob_2 + type1_m_ns*(1-female_nonsmoker_prob_2)\n",
        "type2_unaware_ns_2 = type2_f_ns*female_nonsmoker_prob_2 + type2_m_ns*(1-female_nonsmoker_prob_2)\n",
        "type3_unaware_ns_2 = type3_f_ns*female_nonsmoker_prob_2 + type3_m_ns*(1-female_nonsmoker_prob_2)"
      ]
    },
    {
      "cell_type": "code",
      "execution_count": null,
      "metadata": {
        "id": "D2-ZbZ4APJfv"
      },
      "outputs": [],
      "source": [
        "unawareness_price_ns_2 = 0.5*type1_unaware_ns_2 + 0.9*type2_unaware_ns_2 + 0.1*type3_unaware_ns_2"
      ]
    },
    {
      "cell_type": "code",
      "execution_count": null,
      "metadata": {
        "id": "uX8Go1qZPJfv",
        "outputId": "d450c59a-9543-45a5-e0c3-ea3bf7f4a00f"
      },
      "outputs": [
        {
          "data": {
            "text/plain": [
              "[(0.13, 0.33)]"
            ]
          },
          "execution_count": 67,
          "metadata": {},
          "output_type": "execute_result"
        },
        {
          "data": {
            "image/png": "[encoded data removed]",
            "text/plain": [
              "<Figure size 1440x864 with 2 Axes>"
            ]
          },
          "metadata": {},
          "output_type": "display_data"
        }
      ],
      "source": [
        "%matplotlib inline\n",
        "\n",
        "sns.set(rc={'figure.figsize':(20,12)})\n",
        "\n",
        "f, axes = plt.subplots(1, 2)\n",
        "\n",
        "\n",
        "data_preproc_ns = pd.DataFrame({\n",
        "    'age': age_range, \n",
        "    'best-estimate prices male': best_est_m_ns,\n",
        "    'best-estimate prices female': best_est_f_ns,\n",
        "    'unawarness prices': unawareness_price_ns_2,\n",
        "    'discrimination-free prices': discr_free_price_ns})\n",
        "\n",
        "data_preproc_s = pd.DataFrame({\n",
        "    'age': age_range, \n",
        "    'best-estimate prices male': best_est_m_s,\n",
        "    'best-estimate prices female': best_est_f_s,\n",
        "    'unawarness prices': unawareness_price_s_2,\n",
        "    'discrimination-free prices': discr_free_price_s})\n",
        "\n",
        "plot_1 = sns.lineplot(x='age', y='value', hue='variable', \n",
        "             data=pd.melt(data_preproc_s, ['age']), ax = axes[0])\n",
        "plot_1.set_title('smokers')\n",
        "plot_1.set(ylim=(0.13, 0.33))\n",
        "\n",
        "plot_2 = sns.lineplot(x='age', y='value', hue='variable', \n",
        "             data=pd.melt(data_preproc_ns, ['age']), ax = axes[1])\n",
        "plot_2.set_title('non-smokers')\n",
        "plot_2.set(ylim=(0.13, 0.33))"
      ]
    },
    {
      "cell_type": "markdown",
      "metadata": {
        "id": "5UYkCMFJcQE_"
      },
      "source": [
        "The following points stand out from the plots:\n",
        "* for **smokers**, the unawareness price tracks more closely male subjects while for **non-smokers** it tracks more closely female subjects\n",
        "* unawareness price would charge more to **non-smokers** rather than to **smokers**."
      ]
    },
    {
      "cell_type": "markdown",
      "metadata": {
        "id": "QcOFCOcacQE_"
      },
      "source": [
        "**Takeaway:** unawarness prices may mask the impact of important variables. In our toy example, the proxy effect causes the model to charge more to the non-smoker category."
      ]
    },
    {
      "cell_type": "markdown",
      "metadata": {
        "id": "zh0rN3dWPJfw"
      },
      "source": [
        "# Chapter 3 - A more complicated example - simulating a portfolio of policyholders <a name=\"three\"></a>"
      ]
    },
    {
      "cell_type": "markdown",
      "metadata": {
        "id": "_i4-9ElCPJfw"
      },
      "source": [
        "## 3.1 Data generation <a name=\"three-one\"></a>"
      ]
    },
    {
      "cell_type": "markdown",
      "metadata": {
        "id": "HRIJLsF6PJfw"
      },
      "source": [
        "We simulate a dataset from $(\\textbf{X},D,Y)\\sim P$ consistently with the given model assumptions. Next, we calibrate a regression model to the simulated data. "
      ]
    },
    {
      "cell_type": "markdown",
      "metadata": {
        "id": "CvRs5qjmPJfw"
      },
      "source": [
        "We propose the following set of assumptions:\n",
        "  * health insurance portfolio of size $n=100000$\n",
        "  * we assume that $P(D=female) = 0.45$, hence female subjects constitute 45% of the portfolio\n",
        "  * we assume deterministic claim costs $(C_{1}, C_{2}, C_{3} = 0.5, 0.9, 0.1)$\n",
        "  * we introduce two unprotected features: $X_{1}$ (age) and $X_{2}$ (smoking habits)\n",
        "  * we introduce one protected feature: $D$ (gender)\n",
        "  * we assume age being independent from smoking habits and gender $X_{1} \\perp (X_{2},D)$\n",
        "  * we simulate counts from Poisson GLMs assuming $P(D=female|X_{2}=smoker)=0.8$."
      ]
    },
    {
      "cell_type": "code",
      "execution_count": null,
      "metadata": {
        "id": "ubk1OpfBPJfx"
      },
      "outputs": [],
      "source": [
        "# set seed for reproducibility\n",
        "random.seed(123)"
      ]
    },
    {
      "cell_type": "code",
      "execution_count": null,
      "metadata": {
        "id": "5Vm-YSd4PJfx"
      },
      "outputs": [],
      "source": [
        "# number of policies\n",
        "n_policies = 100000"
      ]
    },
    {
      "cell_type": "code",
      "execution_count": null,
      "metadata": {
        "id": "L-SqnH04PJfx"
      },
      "outputs": [],
      "source": [
        "# age pattern\n",
        "age_pattern = norm.pdf(x = age_range/100, loc = 0.45, scale = 0.2) # Gaussian probability density function\n",
        "age_prop = age_pattern/sum(age_pattern)"
      ]
    },
    {
      "cell_type": "code",
      "execution_count": null,
      "metadata": {
        "id": "wODp18nWcQFB",
        "outputId": "5ce61f0f-7a3a-435d-8d47-cf8f6b461ae9"
      },
      "outputs": [
        {
          "data": {
            "image/png": "[encoded data removed]",
            "text/plain": [
              "<Figure size 1440x864 with 1 Axes>"
            ]
          },
          "metadata": {},
          "output_type": "display_data"
        }
      ],
      "source": [
        "# KU Leuven colors\n",
        "#colors = [(29,141,176)]\n",
        "#colors = [(e[0] / 255.0, e[1] / 255.0, e[2] / 255.0) for e in colors]\n",
        "\n",
        "data_preproc = pd.DataFrame({\n",
        "    'age':age_range, \n",
        "    'pk' :age_prop})\n",
        "\n",
        "ax = sns.barplot(x='age', y='pk', data=data_preproc, order=age_range, color = '#1D8DB0')\n",
        "ax.set_xlabel('age', fontsize = 13)\n",
        "ax.set_ylabel('frequency', fontsize = 13)\n",
        "ax.set_title('age distribution', fontsize = 17)\n",
        "plt.show(ax)"
      ]
    },
    {
      "cell_type": "code",
      "execution_count": null,
      "metadata": {
        "id": "tczp1sKVPJfx",
        "outputId": "a1bad812-7f9e-4e79-c455-9fbea9cf1cfd"
      },
      "outputs": [
        {
          "name": "stdout",
          "output_type": "stream",
          "text": [
            "number of female subjects: 44938\n"
          ]
        }
      ],
      "source": [
        "# the number of female subjects in the portfolio is drawn from a binomial distribution given `n` trials and `p` probability of success:\n",
        "n_female = int(np.random.binomial(n = n_policies, p = female_prob, size = 1)) # for n floats are also okay but they will be approximated to the closes int\n",
        "print(f'number of female subjects: {n_female}')"
      ]
    },
    {
      "cell_type": "code",
      "execution_count": null,
      "metadata": {
        "id": "_VaFFJdcPJfy",
        "outputId": "1dc0db17-b0f5-4ecf-e99a-98a4c3c2c800"
      },
      "outputs": [
        {
          "name": "stdout",
          "output_type": "stream",
          "text": [
            "number of female subjects that show smoking habits: 23809\n"
          ]
        }
      ],
      "source": [
        "# the number of smoking female subjects in the portfolio is drawn in a similar way, adjusting for the probability of success:\n",
        "n_female_smoker = int(np.random.binomial(n = n_female, p = female_smoker_prob * smoker_prob / female_prob, size = 1))\n",
        "print(f'number of female subjects that show smoking habits: {n_female_smoker}')"
      ]
    },
    {
      "cell_type": "code",
      "execution_count": null,
      "metadata": {
        "id": "8ziEYqPnPJfy",
        "outputId": "c6a84a66-5628-4fc4-c463-21796a7ef66e"
      },
      "outputs": [
        {
          "name": "stdout",
          "output_type": "stream",
          "text": [
            "number of male subjects that show smoking habits: 5823\n"
          ]
        }
      ],
      "source": [
        "# the number of smoking male subjects in the portfolio is drawn in a similar way, adjusting for the probability of success:\n",
        "n_male_smoker = int(np.random.binomial(n = (n_policies - n_female), p = (1 - female_smoker_prob) * smoker_prob / (1 - female_prob), size = 1))\n",
        "print(f'number of male subjects that show smoking habits: {n_male_smoker}')"
      ]
    },
    {
      "cell_type": "code",
      "execution_count": null,
      "metadata": {
        "id": "lj0p1xQKPJfz",
        "outputId": "28934dda-1463-4493-c14c-017497499cf7"
      },
      "outputs": [
        {
          "name": "stdout",
          "output_type": "stream",
          "text": [
            "empirical proportion of women in the synthetic population: 0.44938, vs theoretical proportion: 0.45\n"
          ]
        }
      ],
      "source": [
        "# compare the empirical frequency for female subjecs vs the theoretical one\n",
        "female_prob_empirical = n_female/n_policies\n",
        "print(f'empirical proportion of women in the synthetic population: {female_prob_empirical}, vs theoretical proportion: {female_prob}')"
      ]
    },
    {
      "cell_type": "code",
      "execution_count": null,
      "metadata": {
        "id": "uLiDjiPqPJf0"
      },
      "outputs": [],
      "source": [
        "# generate an array of zeros of lengh = n_policies\n",
        "D = np.zeros(n_policies, dtype = np.int32)\n",
        "\n",
        "# we designate the first n_female entries as female subjects\n",
        "D[:n_female] = 1"
      ]
    },
    {
      "cell_type": "code",
      "execution_count": null,
      "metadata": {
        "id": "IkQdY9MuPJf0"
      },
      "outputs": [],
      "source": [
        "# generate an array of length n_policies random-sampling with replacement from age_range array according to age_prop sampling probabilities\n",
        "X_1 = np.random.choice(a = age_range, size = n_policies, replace = True, p = age_prop)"
      ]
    },
    {
      "cell_type": "code",
      "execution_count": null,
      "metadata": {
        "id": "G7lmoZ-sPJf0"
      },
      "outputs": [],
      "source": [
        "# generate an array of zeros of lengh = n_policies\n",
        "X_2 = np.zeros(n_policies, dtype = np.int32)\n",
        "\n",
        "# we designate the first n_female_smoker entries as smoking female subjects\n",
        "X_2[:n_female_smoker] = 1\n",
        "\n",
        "# entries ranging from (n_female + 1) to (n_female + 1 + n_male_smoker) are designated as smoking male subjects\n",
        "X_2[(n_female + 1):(n_female + 1 + n_male_smoker)] = 1"
      ]
    },
    {
      "cell_type": "code",
      "execution_count": null,
      "metadata": {
        "id": "oPGaFnsMcQFD",
        "outputId": "50e783ed-f085-4510-ebe2-cd786fbc9597"
      },
      "outputs": [
        {
          "data": {
            "text/plain": [
              "5823"
            ]
          },
          "execution_count": 83,
          "metadata": {},
          "output_type": "execute_result"
        }
      ],
      "source": [
        "len(list(range((n_female + 1),(n_female + 1 + n_male_smoker))))"
      ]
    },
    {
      "cell_type": "code",
      "execution_count": null,
      "metadata": {
        "id": "SpKNpDG-PJf1"
      },
      "outputs": [],
      "source": [
        "# generate boolean array: True when age is in [20, 40], else False\n",
        "pregnant_age = (X_1 >= 20) & (X_1 <= 40)"
      ]
    },
    {
      "cell_type": "code",
      "execution_count": null,
      "metadata": {
        "id": "jItvNPCwPJf1",
        "outputId": "27eb8245-1943-4832-d0c8-9682ca226812"
      },
      "outputs": [
        {
          "data": {
            "text/html": [
              "<div>\n",
              "<style scoped>\n",
              "    .dataframe tbody tr th:only-of-type {\n",
              "        vertical-align: middle;\n",
              "    }\n",
              "\n",
              "    .dataframe tbody tr th {\n",
              "        vertical-align: top;\n",
              "    }\n",
              "\n",
              "    .dataframe thead th {\n",
              "        text-align: right;\n",
              "    }\n",
              "</style>\n",
              "<table border=\"1\" class=\"dataframe\">\n",
              "  <thead>\n",
              "    <tr style=\"text-align: right;\">\n",
              "      <th></th>\n",
              "      <th>gender</th>\n",
              "      <th>smoker</th>\n",
              "      <th>age</th>\n",
              "      <th>pregnant_age</th>\n",
              "    </tr>\n",
              "  </thead>\n",
              "  <tbody>\n",
              "    <tr>\n",
              "      <th>0</th>\n",
              "      <td>1</td>\n",
              "      <td>1</td>\n",
              "      <td>62</td>\n",
              "      <td>False</td>\n",
              "    </tr>\n",
              "    <tr>\n",
              "      <th>1</th>\n",
              "      <td>1</td>\n",
              "      <td>1</td>\n",
              "      <td>49</td>\n",
              "      <td>False</td>\n",
              "    </tr>\n",
              "    <tr>\n",
              "      <th>2</th>\n",
              "      <td>1</td>\n",
              "      <td>1</td>\n",
              "      <td>40</td>\n",
              "      <td>True</td>\n",
              "    </tr>\n",
              "    <tr>\n",
              "      <th>3</th>\n",
              "      <td>1</td>\n",
              "      <td>1</td>\n",
              "      <td>41</td>\n",
              "      <td>False</td>\n",
              "    </tr>\n",
              "    <tr>\n",
              "      <th>4</th>\n",
              "      <td>1</td>\n",
              "      <td>1</td>\n",
              "      <td>68</td>\n",
              "      <td>False</td>\n",
              "    </tr>\n",
              "    <tr>\n",
              "      <th>5</th>\n",
              "      <td>1</td>\n",
              "      <td>1</td>\n",
              "      <td>37</td>\n",
              "      <td>True</td>\n",
              "    </tr>\n",
              "    <tr>\n",
              "      <th>6</th>\n",
              "      <td>1</td>\n",
              "      <td>1</td>\n",
              "      <td>16</td>\n",
              "      <td>False</td>\n",
              "    </tr>\n",
              "    <tr>\n",
              "      <th>7</th>\n",
              "      <td>1</td>\n",
              "      <td>1</td>\n",
              "      <td>49</td>\n",
              "      <td>False</td>\n",
              "    </tr>\n",
              "    <tr>\n",
              "      <th>8</th>\n",
              "      <td>1</td>\n",
              "      <td>1</td>\n",
              "      <td>42</td>\n",
              "      <td>False</td>\n",
              "    </tr>\n",
              "    <tr>\n",
              "      <th>9</th>\n",
              "      <td>1</td>\n",
              "      <td>1</td>\n",
              "      <td>62</td>\n",
              "      <td>False</td>\n",
              "    </tr>\n",
              "  </tbody>\n",
              "</table>\n",
              "</div>"
            ],
            "text/plain": [
              "   gender  smoker  age  pregnant_age\n",
              "0       1       1   62         False\n",
              "1       1       1   49         False\n",
              "2       1       1   40          True\n",
              "3       1       1   41         False\n",
              "4       1       1   68         False\n",
              "5       1       1   37          True\n",
              "6       1       1   16         False\n",
              "7       1       1   49         False\n",
              "8       1       1   42         False\n",
              "9       1       1   62         False"
            ]
          },
          "execution_count": 85,
          "metadata": {},
          "output_type": "execute_result"
        }
      ],
      "source": [
        "# arrage arrays X_1, X_2, D and pregnant_age in a pd.DataFrame\n",
        "data_sim = pd.DataFrame({'gender':D,\n",
        "                         'smoker':X_2,\n",
        "                         'age':X_1,\n",
        "                         'pregnant_age':pregnant_age}); data_sim.head(10)"
      ]
    },
    {
      "cell_type": "code",
      "execution_count": null,
      "metadata": {
        "id": "ZLArDTCBPJf1"
      },
      "outputs": [],
      "source": [
        "# create a backup of the copy\n",
        "data_sim_backup = data_sim.copy(deep = True) # not a shallow copy"
      ]
    },
    {
      "cell_type": "markdown",
      "metadata": {
        "id": "22wuzOlycQFE"
      },
      "source": [
        "We now generate the log-frequencies for the different claim types. We assumed that claim counts follow independent Poisson GLM with canonical link function."
      ]
    },
    {
      "cell_type": "markdown",
      "metadata": {
        "id": "Ac2iJ1SRPJf2"
      },
      "source": [
        "* Simulate type 1 claims $$\\log{\\lambda_{1}(\\textbf{X},D)}:=\\alpha_{0}+\\alpha_{1}1_{X_1\\in[20,40]}1_{D=woman}$$"
      ]
    },
    {
      "cell_type": "code",
      "execution_count": null,
      "metadata": {
        "id": "3riMBvH2PJf2"
      },
      "outputs": [],
      "source": [
        "claims_1 = np.random.poisson(np.exp(-40+38.5*data_sim.pregnant_age*data_sim.gender))"
      ]
    },
    {
      "cell_type": "markdown",
      "metadata": {
        "id": "Y4TdwLCuPJf2"
      },
      "source": [
        "* Simulate type 2 claims $$\\log{\\lambda_{2}(\\textbf{X},D)}:=\\beta_{0}+\\beta_{1}X_{1}+\\beta_{2}1_{X_2=smoker} + \\beta_{3}1_{D=woman}$$"
      ]
    },
    {
      "cell_type": "code",
      "execution_count": null,
      "metadata": {
        "id": "P_7bd6L5PJf3"
      },
      "outputs": [],
      "source": [
        "claims_2 = np.random.poisson(np.exp(-2+0.004*data_sim.age+0.1*data_sim.smoker+0.2*data_sim.gender))"
      ]
    },
    {
      "cell_type": "markdown",
      "metadata": {
        "id": "tmTgqtyKPJf3"
      },
      "source": [
        "* Simulate type 3 claims $$\\log{\\lambda_{3}(\\textbf{X},D)}:=\\gamma_{0}+\\gamma_{1}X_{1}$$"
      ]
    },
    {
      "cell_type": "code",
      "execution_count": null,
      "metadata": {
        "id": "7C7_1CZCPJf3"
      },
      "outputs": [],
      "source": [
        "claims_3 = np.random.poisson(np.exp(-2 + 0.01*data_sim.age))"
      ]
    },
    {
      "cell_type": "markdown",
      "metadata": {
        "id": "hq_vdsAWPJf3"
      },
      "source": [
        "## 3.2 Fitting a Poisson GLM to individual claim types <a name=\"three-two\"></a>"
      ]
    },
    {
      "cell_type": "markdown",
      "metadata": {
        "id": "fZBWiJ4acQFF"
      },
      "source": [
        "Our goal is to fit a regression model to the simulated data assuming that the different claim types are independent and Poisson distributed. The independence assumption between the claim counts motivates modeling them separately. Therefore, we fit three different regression models, one per claim type, ignoring the information about the data generating process of the log-frequencies above."
      ]
    },
    {
      "cell_type": "code",
      "execution_count": null,
      "metadata": {
        "id": "QWNW9NESPJf4"
      },
      "outputs": [],
      "source": [
        "# import core packages to fit Poisson GLM\n",
        "import statsmodels.formula.api as smf\n",
        "import statsmodels.api as sm"
      ]
    },
    {
      "cell_type": "code",
      "execution_count": null,
      "metadata": {
        "id": "FbLnK_RaPJf4"
      },
      "outputs": [],
      "source": [
        "# we create a separate pd.DataFrame and we store type 1 claims and X_1, X_2, D \n",
        "df_1 = pd.DataFrame({'claims_1':claims_1,\n",
        "                   'age':data_sim.age,\n",
        "                   'smoker':data_sim.smoker,\n",
        "                   'gender':data_sim.gender})"
      ]
    },
    {
      "cell_type": "code",
      "execution_count": null,
      "metadata": {
        "id": "wN13vsy-PJf4",
        "outputId": "db6d4ee9-9e28-4350-bbde-c5b6ef15de84"
      },
      "outputs": [
        {
          "name": "stdout",
          "output_type": "stream",
          "text": [
            "                 Generalized Linear Model Regression Results                  \n",
            "==============================================================================\n",
            "Dep. Variable:               claims_1   No. Observations:               100000\n",
            "Model:                            GLM   Df Residuals:                    99996\n",
            "Model Family:                 Poisson   Df Model:                            3\n",
            "Link Function:                    Log   Scale:                          1.0000\n",
            "Method:                          IRLS   Log-Likelihood:                -11097.\n",
            "Date:                Tue, 07 Jun 2022   Deviance:                       15696.\n",
            "Time:                        10:53:29   Pearson chi2:                 3.42e+04\n",
            "No. Iterations:                    28   Pseudo R-squ. (CS):            0.08507\n",
            "Covariance Type:            nonrobust                                         \n",
            "==============================================================================\n",
            "                 coef    std err          z      P>|z|      [0.025      0.975]\n",
            "------------------------------------------------------------------------------\n",
            "Intercept    -28.7911   1.74e+04     -0.002      0.999   -3.42e+04    3.41e+04\n",
            "age           -0.0696      0.001    -51.040      0.000      -0.072      -0.067\n",
            "smoker        -0.0349      0.034     -1.033      0.302      -0.101       0.031\n",
            "gender        28.9061   1.74e+04      0.002      0.999   -3.41e+04    3.42e+04\n",
            "==============================================================================\n"
          ]
        }
      ],
      "source": [
        "# we fit a Poisson GLM on type 1 claims using all the available information\n",
        "glm_type_1 = smf.glm(formula='claims_1 ~ 1 + age + smoker + gender',  # intersect included\n",
        "                     data = df_1, family= sm.families.Poisson()).fit()\n",
        "est_freq_1 = glm_type_1.fittedvalues\n",
        "print(glm_type_1.summary())"
      ]
    },
    {
      "cell_type": "code",
      "execution_count": null,
      "metadata": {
        "id": "L2GrshiBPJf4",
        "outputId": "7a2a15c8-5eab-4adb-e1de-0185ee6f9e1d"
      },
      "outputs": [
        {
          "data": {
            "text/plain": [
              "(100000,)"
            ]
          },
          "execution_count": 93,
          "metadata": {},
          "output_type": "execute_result"
        }
      ],
      "source": [
        "glm_type_1.predict().shape"
      ]
    },
    {
      "cell_type": "code",
      "execution_count": null,
      "metadata": {
        "id": "DE4y7MUkPJf5",
        "outputId": "7fc85295-308b-4ad7-fdde-50e321c72af3"
      },
      "outputs": [
        {
          "data": {
            "text/plain": [
              "0.039589464536861886"
            ]
          },
          "execution_count": 94,
          "metadata": {},
          "output_type": "execute_result"
        }
      ],
      "source": [
        "np.mean((df_1['claims_1'] - glm_type_1.predict())**2)"
      ]
    },
    {
      "cell_type": "code",
      "execution_count": null,
      "metadata": {
        "id": "uF66gIzxPJf5"
      },
      "outputs": [],
      "source": [
        "# we create a separate pd.DataFrame and we store type 2 claims and X_1, X_2, D \n",
        "df_2 = pd.DataFrame({'claims_2':claims_2,\n",
        "                   'age':data_sim.age,\n",
        "                   'smoker':data_sim.smoker,\n",
        "                   'gender':data_sim.gender})"
      ]
    },
    {
      "cell_type": "code",
      "execution_count": null,
      "metadata": {
        "id": "d9oC6pwVPJf5",
        "outputId": "2e9d238c-ca6c-49cb-8493-19b518e49667"
      },
      "outputs": [
        {
          "name": "stdout",
          "output_type": "stream",
          "text": [
            "                 Generalized Linear Model Regression Results                  \n",
            "==============================================================================\n",
            "Dep. Variable:               claims_2   No. Observations:               100000\n",
            "Model:                            GLM   Df Residuals:                    99996\n",
            "Model Family:                 Poisson   Df Model:                            3\n",
            "Link Function:                    Log   Scale:                          1.0000\n",
            "Method:                          IRLS   Log-Likelihood:                -51191.\n",
            "Date:                Tue, 07 Jun 2022   Deviance:                       67176.\n",
            "Time:                        10:53:29   Pearson chi2:                 1.00e+05\n",
            "No. Iterations:                     6   Pseudo R-squ. (CS):           0.004596\n",
            "Covariance Type:            nonrobust                                         \n",
            "==============================================================================\n",
            "                 coef    std err          z      P>|z|      [0.025      0.975]\n",
            "------------------------------------------------------------------------------\n",
            "Intercept     -1.9868      0.024    -82.377      0.000      -2.034      -1.940\n",
            "age            0.0036      0.000      7.891      0.000       0.003       0.005\n",
            "smoker         0.1076      0.017      6.216      0.000       0.074       0.142\n",
            "gender         0.2310      0.016     14.026      0.000       0.199       0.263\n",
            "==============================================================================\n"
          ]
        }
      ],
      "source": [
        "# we fit a Poisson GLM on type 2 claims using all the available information\n",
        "glm_type_2 = smf.glm(formula='claims_2 ~ 1 + age + smoker + gender',  # intersect included\n",
        "                     data = df_2, family= sm.families.Poisson()).fit()\n",
        "est_freq_2 = glm_type_2.fittedvalues\n",
        "print(glm_type_2.summary())"
      ]
    },
    {
      "cell_type": "code",
      "execution_count": null,
      "metadata": {
        "id": "o3Xeov9wPJf6"
      },
      "outputs": [],
      "source": [
        "# we create a separate pd.DataFrame and we store type 3 claims and X_1, X_2, D \n",
        "df_3 = pd.DataFrame({'claims_3':claims_3,\n",
        "                   'age':data_sim.age,\n",
        "                   'smoker':data_sim.smoker,\n",
        "                   'gender':data_sim.gender})"
      ]
    },
    {
      "cell_type": "code",
      "execution_count": null,
      "metadata": {
        "id": "afQhn-qEPJf6",
        "outputId": "73e5477c-41ec-4213-9623-1cd9bc06c12a"
      },
      "outputs": [
        {
          "name": "stdout",
          "output_type": "stream",
          "text": [
            "                 Generalized Linear Model Regression Results                  \n",
            "==============================================================================\n",
            "Dep. Variable:               claims_3   No. Observations:               100000\n",
            "Model:                            GLM   Df Residuals:                    99996\n",
            "Model Family:                 Poisson   Df Model:                            3\n",
            "Link Function:                    Log   Scale:                          1.0000\n",
            "Method:                          IRLS   Log-Likelihood:                -56518.\n",
            "Date:                Tue, 07 Jun 2022   Deviance:                       72545.\n",
            "Time:                        10:53:30   Pearson chi2:                 1.00e+05\n",
            "No. Iterations:                     6   Pseudo R-squ. (CS):           0.006124\n",
            "Covariance Type:            nonrobust                                         \n",
            "==============================================================================\n",
            "                 coef    std err          z      P>|z|      [0.025      0.975]\n",
            "------------------------------------------------------------------------------\n",
            "Intercept     -2.0103      0.023    -88.395      0.000      -2.055      -1.966\n",
            "age            0.0105      0.000     24.697      0.000       0.010       0.011\n",
            "smoker        -0.0273      0.017     -1.628      0.104      -0.060       0.006\n",
            "gender         0.0009      0.015      0.057      0.955      -0.029       0.031\n",
            "==============================================================================\n"
          ]
        }
      ],
      "source": [
        "# we fit a Poisson GLM on type 3 claims using all the available information\n",
        "glm_type_3 = smf.glm(formula='claims_3 ~ 1 + age + smoker + gender', # intersect included\n",
        "                     data = df_2, family= sm.families.Poisson()).fit()\n",
        "est_freq_3 = glm_type_3.fittedvalues\n",
        "print(glm_type_3.summary())"
      ]
    },
    {
      "cell_type": "code",
      "execution_count": null,
      "metadata": {
        "id": "drV7_Y1YPJf7",
        "outputId": "6f2b9c57-47a6-47a1-bb72-ec1a7083fd2d"
      },
      "outputs": [
        {
          "data": {
            "text/html": [
              "<div>\n",
              "<style scoped>\n",
              "    .dataframe tbody tr th:only-of-type {\n",
              "        vertical-align: middle;\n",
              "    }\n",
              "\n",
              "    .dataframe tbody tr th {\n",
              "        vertical-align: top;\n",
              "    }\n",
              "\n",
              "    .dataframe thead th {\n",
              "        text-align: right;\n",
              "    }\n",
              "</style>\n",
              "<table border=\"1\" class=\"dataframe\">\n",
              "  <thead>\n",
              "    <tr style=\"text-align: right;\">\n",
              "      <th></th>\n",
              "      <th>gender</th>\n",
              "      <th>smoker</th>\n",
              "      <th>age</th>\n",
              "      <th>pregnant_age</th>\n",
              "      <th>claims_1</th>\n",
              "      <th>claims_2</th>\n",
              "      <th>claims_3</th>\n",
              "    </tr>\n",
              "  </thead>\n",
              "  <tbody>\n",
              "    <tr>\n",
              "      <th>0</th>\n",
              "      <td>1</td>\n",
              "      <td>1</td>\n",
              "      <td>62</td>\n",
              "      <td>False</td>\n",
              "      <td>0.014492</td>\n",
              "      <td>0.240991</td>\n",
              "      <td>0.250764</td>\n",
              "    </tr>\n",
              "    <tr>\n",
              "      <th>1</th>\n",
              "      <td>1</td>\n",
              "      <td>1</td>\n",
              "      <td>49</td>\n",
              "      <td>False</td>\n",
              "      <td>0.035810</td>\n",
              "      <td>0.229876</td>\n",
              "      <td>0.218653</td>\n",
              "    </tr>\n",
              "    <tr>\n",
              "      <th>2</th>\n",
              "      <td>1</td>\n",
              "      <td>1</td>\n",
              "      <td>40</td>\n",
              "      <td>True</td>\n",
              "      <td>0.066987</td>\n",
              "      <td>0.222483</td>\n",
              "      <td>0.198864</td>\n",
              "    </tr>\n",
              "    <tr>\n",
              "      <th>3</th>\n",
              "      <td>1</td>\n",
              "      <td>1</td>\n",
              "      <td>41</td>\n",
              "      <td>False</td>\n",
              "      <td>0.062485</td>\n",
              "      <td>0.223292</td>\n",
              "      <td>0.200971</td>\n",
              "    </tr>\n",
              "    <tr>\n",
              "      <th>4</th>\n",
              "      <td>1</td>\n",
              "      <td>1</td>\n",
              "      <td>68</td>\n",
              "      <td>False</td>\n",
              "      <td>0.009546</td>\n",
              "      <td>0.246301</td>\n",
              "      <td>0.267135</td>\n",
              "    </tr>\n",
              "  </tbody>\n",
              "</table>\n",
              "</div>"
            ],
            "text/plain": [
              "   gender  smoker  age  pregnant_age  claims_1  claims_2  claims_3\n",
              "0       1       1   62         False  0.014492  0.240991  0.250764\n",
              "1       1       1   49         False  0.035810  0.229876  0.218653\n",
              "2       1       1   40          True  0.066987  0.222483  0.198864\n",
              "3       1       1   41         False  0.062485  0.223292  0.200971\n",
              "4       1       1   68         False  0.009546  0.246301  0.267135"
            ]
          },
          "execution_count": 99,
          "metadata": {},
          "output_type": "execute_result"
        }
      ],
      "source": [
        "# we concatenate data_sim with the fitted values for all claim types\n",
        "data_sim_fitted = pd.concat([data_sim, est_freq_1, est_freq_2, est_freq_3], axis = 1)\n",
        "data_sim_fitted = data_sim_fitted.rename(columns={0:'claims_1',1:'claims_2',2:'claims_3'}); data_sim_fitted.head()"
      ]
    },
    {
      "cell_type": "code",
      "execution_count": null,
      "metadata": {
        "id": "UXF2k9I8PJf7"
      },
      "outputs": [],
      "source": [
        "# for convenience, let's change the label: \n",
        "#1 -> female, 0 -> male\n",
        "data_sim_fitted['gender'] = np.where(data_sim_fitted['gender'].astype(int) == 1, 'female', 'male')\n",
        "\n",
        "#1 -> smoker, 0 -> non-smoker\n",
        "data_sim_fitted['smoker'] = np.where(data_sim_fitted['smoker'].astype(int) == 1, 'smoker', 'non-smoker')"
      ]
    },
    {
      "cell_type": "code",
      "execution_count": null,
      "metadata": {
        "colab": {
          "base_uri": "https://localhost:8080/",
          "height": 165
        },
        "id": "8Ucyec7sPJf7",
        "outputId": "3dc57cf0-7644-4123-9644-523a8bb4a615"
      },
      "outputs": [
        {
          "data": {
            "text/html": [
              "<div>\n",
              "<style scoped>\n",
              "    .dataframe tbody tr th:only-of-type {\n",
              "        vertical-align: middle;\n",
              "    }\n",
              "\n",
              "    .dataframe tbody tr th {\n",
              "        vertical-align: top;\n",
              "    }\n",
              "\n",
              "    .dataframe thead th {\n",
              "        text-align: right;\n",
              "    }\n",
              "</style>\n",
              "<table border=\"1\" class=\"dataframe\">\n",
              "  <thead>\n",
              "    <tr style=\"text-align: right;\">\n",
              "      <th></th>\n",
              "      <th>gender</th>\n",
              "      <th>smoker</th>\n",
              "      <th>age</th>\n",
              "      <th>pregnant_age</th>\n",
              "      <th>claims_1</th>\n",
              "      <th>claims_2</th>\n",
              "      <th>claims_3</th>\n",
              "    </tr>\n",
              "  </thead>\n",
              "  <tbody>\n",
              "    <tr>\n",
              "      <th>0</th>\n",
              "      <td>female</td>\n",
              "      <td>smoker</td>\n",
              "      <td>62</td>\n",
              "      <td>False</td>\n",
              "      <td>0.014492</td>\n",
              "      <td>0.240991</td>\n",
              "      <td>0.250764</td>\n",
              "    </tr>\n",
              "    <tr>\n",
              "      <th>1</th>\n",
              "      <td>female</td>\n",
              "      <td>smoker</td>\n",
              "      <td>49</td>\n",
              "      <td>False</td>\n",
              "      <td>0.035810</td>\n",
              "      <td>0.229876</td>\n",
              "      <td>0.218653</td>\n",
              "    </tr>\n",
              "    <tr>\n",
              "      <th>2</th>\n",
              "      <td>female</td>\n",
              "      <td>smoker</td>\n",
              "      <td>40</td>\n",
              "      <td>True</td>\n",
              "      <td>0.066987</td>\n",
              "      <td>0.222483</td>\n",
              "      <td>0.198864</td>\n",
              "    </tr>\n",
              "    <tr>\n",
              "      <th>3</th>\n",
              "      <td>female</td>\n",
              "      <td>smoker</td>\n",
              "      <td>41</td>\n",
              "      <td>False</td>\n",
              "      <td>0.062485</td>\n",
              "      <td>0.223292</td>\n",
              "      <td>0.200971</td>\n",
              "    </tr>\n",
              "    <tr>\n",
              "      <th>4</th>\n",
              "      <td>female</td>\n",
              "      <td>smoker</td>\n",
              "      <td>68</td>\n",
              "      <td>False</td>\n",
              "      <td>0.009546</td>\n",
              "      <td>0.246301</td>\n",
              "      <td>0.267135</td>\n",
              "    </tr>\n",
              "  </tbody>\n",
              "</table>\n",
              "</div>"
            ],
            "text/plain": [
              "   gender  smoker  age  pregnant_age  claims_1  claims_2  claims_3\n",
              "0  female  smoker   62         False  0.014492  0.240991  0.250764\n",
              "1  female  smoker   49         False  0.035810  0.229876  0.218653\n",
              "2  female  smoker   40          True  0.066987  0.222483  0.198864\n",
              "3  female  smoker   41         False  0.062485  0.223292  0.200971\n",
              "4  female  smoker   68         False  0.009546  0.246301  0.267135"
            ]
          },
          "execution_count": 101,
          "metadata": {},
          "output_type": "execute_result"
        }
      ],
      "source": [
        "data_sim_fitted.head()"
      ]
    },
    {
      "cell_type": "code",
      "execution_count": null,
      "metadata": {
        "id": "Fqqm-g8mPJf8",
        "outputId": "d6c32662-e6b0-4fa3-9b29-445b7bcd2f64"
      },
      "outputs": [
        {
          "data": {
            "text/plain": [
              "Text(0.5, 1.0, 'claim_type_3')"
            ]
          },
          "execution_count": 102,
          "metadata": {},
          "output_type": "execute_result"
        },
        {
          "data": {
            "image/png": "[encoded data removed]",
            "text/plain": [
              "<Figure size 1800x1080 with 3 Axes>"
            ]
          },
          "metadata": {},
          "output_type": "display_data"
        }
      ],
      "source": [
        "%matplotlib inline \n",
        "\n",
        "sns.set(rc={'figure.figsize':(25,15)})\n",
        "\n",
        "f, axes = plt.subplots(1, 3)\n",
        "\n",
        "df_pre_1 = pd.DataFrame({\n",
        "    'age': data_sim_fitted.age,\n",
        "    'gender': data_sim_fitted.gender,\n",
        "    'smoker': data_sim_fitted.smoker,\n",
        "    'est_freq_1': est_freq_1})\n",
        "\n",
        "df_pre_2 = pd.DataFrame({\n",
        "    'age': data_sim_fitted.age,\n",
        "    'gender': data_sim_fitted.gender,\n",
        "    'smoker': data_sim_fitted.smoker,\n",
        "    'est_freq_2': est_freq_2})\n",
        "\n",
        "df_pre_3 = pd.DataFrame({\n",
        "    'age': data_sim_fitted.age,\n",
        "    'gender': data_sim_fitted.gender,\n",
        "    'smoker': data_sim_fitted.smoker,\n",
        "    'est_freq_3': est_freq_3})\n",
        "\n",
        "# notice the trick we use in hue: we need to build a sequence that we pass via hue parameter. The requirement here is that\n",
        "# the argument in hue has the same length as the data and must be one dimensional, so we can't use df[['column1','column2']],\n",
        "# we have to concatenate columns into one. Solution is to concatenate as tuple or series of strings.\n",
        "plot_1 = sns.scatterplot(x = 'age', y = 'est_freq_1', hue = df_pre_1[['gender', 'smoker']].apply(tuple, axis=1), # hue defines which column should be used for column encoding\n",
        "             data = df_pre_1, ax = axes[0], s = 10)\n",
        "plot_1.set_title('claim_type_1')\n",
        "\n",
        "plot_2 = sns.scatterplot(x = 'age', y = 'est_freq_2', hue = df_pre_2[['gender', 'smoker']].apply(tuple, axis=1), \n",
        "         data = df_pre_2, ax = axes[1], s = 10)\n",
        "plot_2.set_title('claim_type_2')\n",
        "\n",
        "plot_3 = sns.scatterplot(x = 'age', y = 'est_freq_3', hue = df_pre_3[['gender', 'smoker']].apply(tuple, axis=1), \n",
        "         data = df_pre_3, ax = axes[2], s = 10)\n",
        "plot_3.set_title('claim_type_3')"
      ]
    },
    {
      "cell_type": "markdown",
      "metadata": {
        "id": "EB9GuOmKcQFJ"
      },
      "source": [
        "The following plots show the frequency for each claim type:\n",
        "* the plot on the left side illustrates claim type 1, which only affects female subjects between 20 and 40 years. We see that Poisson GLM struggles to fit the highly non-linear effect\n",
        "* the plot in the center illustrates claim type 2. We observe that it is linearly dependent on age and that, in general, we expect a higher frequency for smoking subjects \n",
        "* the plot on the right side illustrates claim type 3, in which frequency is uniquely linearly dependent on age."
      ]
    },
    {
      "cell_type": "markdown",
      "metadata": {
        "id": "H52iSyQRPJf8"
      },
      "source": [
        "## 3.3 Estimation of technical prices <a name=\"three-three\"></a>"
      ]
    },
    {
      "cell_type": "markdown",
      "metadata": {
        "id": "-XB0t--3PJf9"
      },
      "source": [
        "Let's recall that the claim costs are assumed to be deterministic and given by $(C_{1}, C_{2}, C_{3} = 0.5, 0.9, 0.1)$. We are going to estimate:\n",
        "* best-estimate prices, obtained using all the available information $X_{1}$, $X_{2}$ and $D$, hence including protected features\n",
        "* unawareness prices, obtained using only the unprotected features $X_{1}$ and $X_{2}$\n",
        "* discrimination-free prices, obtained averaging out the protected feature $D$ from best-estimate prices."
      ]
    },
    {
      "cell_type": "markdown",
      "metadata": {
        "id": "8iLJ7DbSPJf9"
      },
      "source": [
        "### 3.3.1 Best-estimate prices <a name=\"three-three-one\"></a>"
      ]
    },
    {
      "cell_type": "code",
      "execution_count": null,
      "metadata": {
        "id": "0TffEquqPJf9"
      },
      "outputs": [],
      "source": [
        "# fitting Poisson GLM on the claim frequency of types 1,2 and 3 using all available information (including protected feature gender)\n",
        "glm_type_1 = smf.glm(formula='claims_1 ~ 1 + age + smoker + gender', \n",
        "                     data = df_1, family= sm.families.Poisson()).fit()\n",
        "est_freq_1 = glm_type_1.fittedvalues\n",
        "\n",
        "glm_type_2 = smf.glm(formula='claims_2 ~ 1 + age + smoker + gender', \n",
        "                     data = df_2, family= sm.families.Poisson()).fit()\n",
        "est_freq_2 = glm_type_2.fittedvalues\n",
        "\n",
        "glm_type_3 = smf.glm(formula='claims_3 ~ 1 + age + smoker + gender', \n",
        "                     data = df_3, family= sm.families.Poisson()).fit()\n",
        "est_freq_3 = glm_type_3.fittedvalues\n",
        "\n",
        "# calculating best-estimate prices multiplying claim costs and claim frequency per each claim type\n",
        "best_est_price_glm = 0.5*est_freq_1 + 0.9*est_freq_2 + 0.1*est_freq_3"
      ]
    },
    {
      "cell_type": "markdown",
      "metadata": {
        "id": "gwS9cM--PJf9"
      },
      "source": [
        "### 3.3.2 Unawareness prices <a name=\"three-three-two\"></a>"
      ]
    },
    {
      "cell_type": "code",
      "execution_count": null,
      "metadata": {
        "id": "HGBjDjsYPJf-"
      },
      "outputs": [],
      "source": [
        "# fitting Poisson GLM on the claim frequency of types 1,2 and 3 using only unprotected available information (age and smoking habits)\n",
        "glm_type_1_unaware = smf.glm(formula='claims_1 ~ 1 + age + smoker', \n",
        "                     data = df_1, family= sm.families.Poisson()).fit()\n",
        "\n",
        "est_freq_1_unaware = glm_type_1_unaware.fittedvalues\n",
        "\n",
        "glm_type_2_unaware = smf.glm(formula='claims_2 ~ 1 + age + smoker', \n",
        "                     data = df_2, family= sm.families.Poisson()).fit()\n",
        "\n",
        "est_freq_2_unaware = glm_type_2_unaware.fittedvalues\n",
        "\n",
        "glm_type_3_unaware = smf.glm(formula='claims_3 ~ 1 + age + smoker', \n",
        "                     data = df_3, family= sm.families.Poisson()).fit()\n",
        "\n",
        "est_freq_3_unaware = glm_type_3_unaware.fittedvalues\n",
        "\n",
        "# calculating best-estimate prices multiplying claim costs and claim frequency per each claim type\n",
        "unaware_price_glm = 0.5*est_freq_1_unaware + 0.9*est_freq_2_unaware + 0.1*est_freq_3_unaware"
      ]
    },
    {
      "cell_type": "markdown",
      "metadata": {
        "id": "phv3rVXLPJf-"
      },
      "source": [
        "### 3.3.3 Discrimination-free prices <a name=\"three-three-three\"></a>"
      ]
    },
    {
      "cell_type": "code",
      "execution_count": null,
      "metadata": {
        "id": "qH9sC-kgPJf-"
      },
      "outputs": [],
      "source": [
        "data_sim_fitted.rename(columns={0:'claims_1',1:'claims_2',2:'claims_3'}, inplace = True)"
      ]
    },
    {
      "cell_type": "code",
      "execution_count": null,
      "metadata": {
        "id": "cj1chyvjPJf-"
      },
      "outputs": [],
      "source": [
        "data_sim_full_female = data_sim_fitted.copy(deep = True)\n",
        "data_sim_full_female.gender = 1 #'female'\n",
        "data_sim_full_female['smoker'] = np.where((data_sim_full_female['smoker'] == 'smoker'),1,0) "
      ]
    },
    {
      "cell_type": "code",
      "execution_count": null,
      "metadata": {
        "id": "AyaVG7JKPJf_",
        "outputId": "2da4f262-126e-4bba-bd8d-96885ef71211"
      },
      "outputs": [
        {
          "data": {
            "text/plain": [
              "29632"
            ]
          },
          "execution_count": 107,
          "metadata": {},
          "output_type": "execute_result"
        }
      ],
      "source": [
        "data_sim_full_female['smoker'].sum()"
      ]
    },
    {
      "cell_type": "code",
      "execution_count": null,
      "metadata": {
        "id": "fJw0ODs1cQFL",
        "outputId": "f1774c4a-c0a1-452a-c187-7c55ec7e6373"
      },
      "outputs": [
        {
          "data": {
            "text/html": [
              "<div>\n",
              "<style scoped>\n",
              "    .dataframe tbody tr th:only-of-type {\n",
              "        vertical-align: middle;\n",
              "    }\n",
              "\n",
              "    .dataframe tbody tr th {\n",
              "        vertical-align: top;\n",
              "    }\n",
              "\n",
              "    .dataframe thead th {\n",
              "        text-align: right;\n",
              "    }\n",
              "</style>\n",
              "<table border=\"1\" class=\"dataframe\">\n",
              "  <thead>\n",
              "    <tr style=\"text-align: right;\">\n",
              "      <th></th>\n",
              "      <th>gender</th>\n",
              "      <th>smoker</th>\n",
              "      <th>age</th>\n",
              "      <th>pregnant_age</th>\n",
              "      <th>claims_1</th>\n",
              "      <th>claims_2</th>\n",
              "      <th>claims_3</th>\n",
              "    </tr>\n",
              "  </thead>\n",
              "  <tbody>\n",
              "    <tr>\n",
              "      <th>0</th>\n",
              "      <td>1</td>\n",
              "      <td>1</td>\n",
              "      <td>62</td>\n",
              "      <td>False</td>\n",
              "      <td>1.449241e-02</td>\n",
              "      <td>0.240991</td>\n",
              "      <td>0.250764</td>\n",
              "    </tr>\n",
              "    <tr>\n",
              "      <th>1</th>\n",
              "      <td>1</td>\n",
              "      <td>1</td>\n",
              "      <td>49</td>\n",
              "      <td>False</td>\n",
              "      <td>3.581031e-02</td>\n",
              "      <td>0.229876</td>\n",
              "      <td>0.218653</td>\n",
              "    </tr>\n",
              "    <tr>\n",
              "      <th>2</th>\n",
              "      <td>1</td>\n",
              "      <td>1</td>\n",
              "      <td>40</td>\n",
              "      <td>True</td>\n",
              "      <td>6.698742e-02</td>\n",
              "      <td>0.222483</td>\n",
              "      <td>0.198864</td>\n",
              "    </tr>\n",
              "    <tr>\n",
              "      <th>3</th>\n",
              "      <td>1</td>\n",
              "      <td>1</td>\n",
              "      <td>41</td>\n",
              "      <td>False</td>\n",
              "      <td>6.248456e-02</td>\n",
              "      <td>0.223292</td>\n",
              "      <td>0.200971</td>\n",
              "    </tr>\n",
              "    <tr>\n",
              "      <th>4</th>\n",
              "      <td>1</td>\n",
              "      <td>1</td>\n",
              "      <td>68</td>\n",
              "      <td>False</td>\n",
              "      <td>9.545907e-03</td>\n",
              "      <td>0.246301</td>\n",
              "      <td>0.267135</td>\n",
              "    </tr>\n",
              "    <tr>\n",
              "      <th>...</th>\n",
              "      <td>...</td>\n",
              "      <td>...</td>\n",
              "      <td>...</td>\n",
              "      <td>...</td>\n",
              "      <td>...</td>\n",
              "      <td>...</td>\n",
              "      <td>...</td>\n",
              "    </tr>\n",
              "    <tr>\n",
              "      <th>99995</th>\n",
              "      <td>1</td>\n",
              "      <td>0</td>\n",
              "      <td>41</td>\n",
              "      <td>False</td>\n",
              "      <td>1.807798e-14</td>\n",
              "      <td>0.159152</td>\n",
              "      <td>0.206350</td>\n",
              "    </tr>\n",
              "    <tr>\n",
              "      <th>99996</th>\n",
              "      <td>1</td>\n",
              "      <td>0</td>\n",
              "      <td>68</td>\n",
              "      <td>False</td>\n",
              "      <td>2.761814e-15</td>\n",
              "      <td>0.175551</td>\n",
              "      <td>0.274285</td>\n",
              "    </tr>\n",
              "    <tr>\n",
              "      <th>99997</th>\n",
              "      <td>1</td>\n",
              "      <td>0</td>\n",
              "      <td>43</td>\n",
              "      <td>False</td>\n",
              "      <td>1.572928e-14</td>\n",
              "      <td>0.160312</td>\n",
              "      <td>0.210746</td>\n",
              "    </tr>\n",
              "    <tr>\n",
              "      <th>99998</th>\n",
              "      <td>1</td>\n",
              "      <td>0</td>\n",
              "      <td>58</td>\n",
              "      <td>False</td>\n",
              "      <td>5.538602e-15</td>\n",
              "      <td>0.169289</td>\n",
              "      <td>0.246845</td>\n",
              "    </tr>\n",
              "    <tr>\n",
              "      <th>99999</th>\n",
              "      <td>1</td>\n",
              "      <td>0</td>\n",
              "      <td>62</td>\n",
              "      <td>False</td>\n",
              "      <td>4.192933e-15</td>\n",
              "      <td>0.171767</td>\n",
              "      <td>0.257475</td>\n",
              "    </tr>\n",
              "  </tbody>\n",
              "</table>\n",
              "<p>100000 rows × 7 columns</p>\n",
              "</div>"
            ],
            "text/plain": [
              "       gender  smoker  age  pregnant_age      claims_1  claims_2  claims_3\n",
              "0           1       1   62         False  1.449241e-02  0.240991  0.250764\n",
              "1           1       1   49         False  3.581031e-02  0.229876  0.218653\n",
              "2           1       1   40          True  6.698742e-02  0.222483  0.198864\n",
              "3           1       1   41         False  6.248456e-02  0.223292  0.200971\n",
              "4           1       1   68         False  9.545907e-03  0.246301  0.267135\n",
              "...       ...     ...  ...           ...           ...       ...       ...\n",
              "99995       1       0   41         False  1.807798e-14  0.159152  0.206350\n",
              "99996       1       0   68         False  2.761814e-15  0.175551  0.274285\n",
              "99997       1       0   43         False  1.572928e-14  0.160312  0.210746\n",
              "99998       1       0   58         False  5.538602e-15  0.169289  0.246845\n",
              "99999       1       0   62         False  4.192933e-15  0.171767  0.257475\n",
              "\n",
              "[100000 rows x 7 columns]"
            ]
          },
          "execution_count": 108,
          "metadata": {},
          "output_type": "execute_result"
        }
      ],
      "source": [
        "data_sim_full_female"
      ]
    },
    {
      "cell_type": "code",
      "execution_count": null,
      "metadata": {
        "id": "tuNleb4lPJf_"
      },
      "outputs": [],
      "source": [
        "data_sim_full_male = data_sim_fitted.copy(deep = True)\n",
        "data_sim_full_male.gender = 0 #'male'\n",
        "data_sim_full_male['smoker'] = np.where((data_sim_full_male['smoker'] == 'smoker'),1,0) "
      ]
    },
    {
      "cell_type": "code",
      "execution_count": null,
      "metadata": {
        "id": "MTy9bjNacQFL",
        "outputId": "d9effea9-d65b-4dc1-e733-a6368aca8fdc"
      },
      "outputs": [
        {
          "data": {
            "text/plain": [
              "29632"
            ]
          },
          "execution_count": 110,
          "metadata": {},
          "output_type": "execute_result"
        }
      ],
      "source": [
        "data_sim_full_male['smoker'].sum()"
      ]
    },
    {
      "cell_type": "code",
      "execution_count": null,
      "metadata": {
        "id": "rg0lwiC6PJf_"
      },
      "outputs": [],
      "source": [
        "best_est_price_glm_full_female =  0.5*glm_type_1.predict(data_sim_full_female[['age','smoker','gender']]) + \\\n",
        "                                  0.9*glm_type_2.predict(data_sim_full_female[['age','smoker','gender']]) + \\\n",
        "                                  0.1*glm_type_3.predict(data_sim_full_female[['age','smoker','gender']])"
      ]
    },
    {
      "cell_type": "code",
      "execution_count": null,
      "metadata": {
        "id": "mg-Whsg4PJgA"
      },
      "outputs": [],
      "source": [
        "best_est_price_glm_full_male =   0.5*glm_type_1.predict(data_sim_full_male[['age','smoker','gender']]) + \\\n",
        "                                  0.9*glm_type_2.predict(data_sim_full_male[['age','smoker','gender']]) + \\\n",
        "                                  0.1*glm_type_3.predict(data_sim_full_male[['age','smoker','gender']])"
      ]
    },
    {
      "cell_type": "code",
      "execution_count": null,
      "metadata": {
        "id": "lQftmLl2PJgA"
      },
      "outputs": [],
      "source": [
        "discr_free_price_glm = female_prob_empirical * best_est_price_glm_full_female + (1 - female_prob_empirical) * best_est_price_glm_full_male"
      ]
    },
    {
      "cell_type": "markdown",
      "metadata": {
        "id": "esF_cLPHPJgA"
      },
      "source": [
        "## 3.4 Aggregate results and plot <a name=\"three-four\"></a>"
      ]
    },
    {
      "cell_type": "code",
      "execution_count": null,
      "metadata": {
        "id": "XGd4l78jPJgA",
        "outputId": "614c9189-27d4-4895-e55c-084c1d2920d8"
      },
      "outputs": [
        {
          "data": {
            "text/html": [
              "<div>\n",
              "<style scoped>\n",
              "    .dataframe tbody tr th:only-of-type {\n",
              "        vertical-align: middle;\n",
              "    }\n",
              "\n",
              "    .dataframe tbody tr th {\n",
              "        vertical-align: top;\n",
              "    }\n",
              "\n",
              "    .dataframe thead th {\n",
              "        text-align: right;\n",
              "    }\n",
              "</style>\n",
              "<table border=\"1\" class=\"dataframe\">\n",
              "  <thead>\n",
              "    <tr style=\"text-align: right;\">\n",
              "      <th></th>\n",
              "      <th>gender</th>\n",
              "      <th>smoker</th>\n",
              "      <th>age</th>\n",
              "      <th>pregnant_age</th>\n",
              "      <th>est_freq_1</th>\n",
              "      <th>est_freq_2</th>\n",
              "      <th>est_freq_3</th>\n",
              "      <th>best_est_price_glm</th>\n",
              "      <th>unaware_price_glm</th>\n",
              "      <th>discr_free_price_glm</th>\n",
              "    </tr>\n",
              "  </thead>\n",
              "  <tbody>\n",
              "    <tr>\n",
              "      <th>0</th>\n",
              "      <td>female</td>\n",
              "      <td>smoker</td>\n",
              "      <td>62</td>\n",
              "      <td>False</td>\n",
              "      <td>0.014492</td>\n",
              "      <td>0.240991</td>\n",
              "      <td>0.250764</td>\n",
              "      <td>0.249215</td>\n",
              "      <td>0.238924</td>\n",
              "      <td>0.220613</td>\n",
              "    </tr>\n",
              "    <tr>\n",
              "      <th>1</th>\n",
              "      <td>female</td>\n",
              "      <td>smoker</td>\n",
              "      <td>49</td>\n",
              "      <td>False</td>\n",
              "      <td>0.035810</td>\n",
              "      <td>0.229876</td>\n",
              "      <td>0.218653</td>\n",
              "      <td>0.246659</td>\n",
              "      <td>0.234738</td>\n",
              "      <td>0.213332</td>\n",
              "    </tr>\n",
              "    <tr>\n",
              "      <th>2</th>\n",
              "      <td>female</td>\n",
              "      <td>smoker</td>\n",
              "      <td>40</td>\n",
              "      <td>True</td>\n",
              "      <td>0.066987</td>\n",
              "      <td>0.222483</td>\n",
              "      <td>0.198864</td>\n",
              "      <td>0.253614</td>\n",
              "      <td>0.238975</td>\n",
              "      <td>0.212469</td>\n",
              "    </tr>\n",
              "    <tr>\n",
              "      <th>3</th>\n",
              "      <td>female</td>\n",
              "      <td>smoker</td>\n",
              "      <td>41</td>\n",
              "      <td>False</td>\n",
              "      <td>0.062485</td>\n",
              "      <td>0.223292</td>\n",
              "      <td>0.200971</td>\n",
              "      <td>0.252302</td>\n",
              "      <td>0.238064</td>\n",
              "      <td>0.212313</td>\n",
              "    </tr>\n",
              "    <tr>\n",
              "      <th>4</th>\n",
              "      <td>female</td>\n",
              "      <td>smoker</td>\n",
              "      <td>68</td>\n",
              "      <td>False</td>\n",
              "      <td>0.009546</td>\n",
              "      <td>0.246301</td>\n",
              "      <td>0.267135</td>\n",
              "      <td>0.253157</td>\n",
              "      <td>0.243137</td>\n",
              "      <td>0.225374</td>\n",
              "    </tr>\n",
              "  </tbody>\n",
              "</table>\n",
              "</div>"
            ],
            "text/plain": [
              "   gender  smoker  age  pregnant_age  est_freq_1  est_freq_2  est_freq_3  \\\n",
              "0  female  smoker   62         False    0.014492    0.240991    0.250764   \n",
              "1  female  smoker   49         False    0.035810    0.229876    0.218653   \n",
              "2  female  smoker   40          True    0.066987    0.222483    0.198864   \n",
              "3  female  smoker   41         False    0.062485    0.223292    0.200971   \n",
              "4  female  smoker   68         False    0.009546    0.246301    0.267135   \n",
              "\n",
              "   best_est_price_glm  unaware_price_glm  discr_free_price_glm  \n",
              "0            0.249215           0.238924              0.220613  \n",
              "1            0.246659           0.234738              0.213332  \n",
              "2            0.253614           0.238975              0.212469  \n",
              "3            0.252302           0.238064              0.212313  \n",
              "4            0.253157           0.243137              0.225374  "
            ]
          },
          "execution_count": 114,
          "metadata": {},
          "output_type": "execute_result"
        }
      ],
      "source": [
        "prices_agg = pd.concat([data_sim_fitted, pd.Series(best_est_price_glm), \n",
        "                        pd.Series(unaware_price_glm), pd.Series(discr_free_price_glm)], axis = 1)\n",
        "prices_agg.columns = ['gender','smoker','age','pregnant_age',\n",
        "                      'est_freq_1','est_freq_2','est_freq_3',\n",
        "                      'best_est_price_glm','unaware_price_glm','discr_free_price_glm']\n",
        "prices_agg.head()"
      ]
    },
    {
      "cell_type": "code",
      "execution_count": null,
      "metadata": {
        "id": "plzuZ9-fPJgB"
      },
      "outputs": [],
      "source": [
        "prices_agg['best-estimate price female (glm)'] = prices_agg[prices_agg.gender == 'female'].best_est_price_glm\n",
        "prices_agg['best-estimate price male (glm)'] = prices_agg[prices_agg.gender == 'male'].best_est_price_glm\n",
        "prices_agg = prices_agg.drop(columns=['best_est_price_glm'],axis = 1)\n",
        "prices_agg = prices_agg.rename(columns={'unaware_price_glm':'unawareness prices (glm)',\n",
        "                                'discr_free_price_glm':'discrimination-free prices (glm)'})"
      ]
    },
    {
      "cell_type": "code",
      "execution_count": null,
      "metadata": {
        "id": "AWR8OgIbPJgB",
        "outputId": "269858df-d1c0-47a3-950d-be82a78ef513"
      },
      "outputs": [
        {
          "data": {
            "text/plain": [
              "Text(0.5, 1.0, 'non-smokers')"
            ]
          },
          "execution_count": 116,
          "metadata": {},
          "output_type": "execute_result"
        },
        {
          "data": {
            "image/png": "[encoded data removed]",
            "text/plain": [
              "<Figure size 1944x864 with 2 Axes>"
            ]
          },
          "metadata": {},
          "output_type": "display_data"
        }
      ],
      "source": [
        "%matplotlib inline \n",
        "\n",
        "sns.set(rc={'figure.figsize':(27,12)})\n",
        "f, axes = plt.subplots(1, 2)\n",
        "\n",
        "df_smok = prices_agg[prices_agg.smoker == 'smoker']\n",
        "df_smok = df_smok.drop(['smoker','gender','pregnant_age','est_freq_1','est_freq_2','est_freq_3'], axis = 1)\n",
        "\n",
        "df_nnsmok = prices_agg[prices_agg.smoker != 'smoker']\n",
        "df_nnsmok = df_nnsmok.drop(['smoker','gender','pregnant_age','est_freq_1','est_freq_2','est_freq_3'], axis = 1)\n",
        "\n",
        "plot_1 = sns.scatterplot(x='age', y='value', hue='variable', \n",
        "             data=pd.melt(df_smok, ['age']), ax = axes[0], s=15)\n",
        "plot_1.set_title('smokers')\n",
        "\n",
        "plot_2 = sns.scatterplot(x='age', y='value', hue='variable', \n",
        "         data=pd.melt(df_nnsmok, ['age']), ax = axes[1], s=15)\n",
        "plot_2.set_title('non-smokers')"
      ]
    },
    {
      "cell_type": "markdown",
      "metadata": {
        "id": "ha22gzfLcQFM"
      },
      "source": [
        "The plot above shows the resulting best-estimate prices, unawareness prices, and discrimination-free prices, as estimated using the Poisson GLM. We can observe that the resulting prices are a poor approximation to the true prices of the previous chapter, where we assumed full knowledge of the data generating process. However, the general discriminatory behavior is the same:\n",
        "* the unawareness price discriminates indirectly by learning the gender $D$ from smoking habits $X_{2}$\n",
        "* discrimination-free prices are higher for smokers rather than non-smokers."
      ]
    },
    {
      "cell_type": "markdown",
      "metadata": {
        "id": "lIOHqVy3cQFM"
      },
      "source": [
        "# Chapter 4 - Conclusions <a name=\"four\"></a>"
      ]
    },
    {
      "cell_type": "markdown",
      "metadata": {
        "id": "GVvKSPlBcQFM"
      },
      "source": [
        "We can draw the following conclusions:\n",
        "* if we want to avoid discrimination in insurance pricing, we need access to all discriminatory characteristics. It is impossible to properly adjust for the protected characteristics' influence without accounting for protected features. Therefore, we first construct a price based on all the available information, including the discriminatory ones. Second, we average out the effect of discriminatory information\n",
        "* the approach described in [Lindholm et al. (2022)](https://www.cambridge.org/core/services/aop-cambridge-core/content/view/ED25C4053690E56050F437B8DF2AD117/S0515036121000234a.pdf/discrimination-free-insurance-pricing.pdf) neither allows for direct nor for indirect discrimination\n",
        "* omission of protected risk factors leads to indirect discrimination in prices."
      ]
    },
    {
      "cell_type": "markdown",
      "metadata": {
        "id": "2ScTxsoTPJgN"
      },
      "source": [
        "# References <a name=\"ref\"></a>"
      ]
    },
    {
      "cell_type": "markdown",
      "metadata": {
        "id": "AX1FJBPZPJgN"
      },
      "source": [
        "Lindholm, M., Richman, R., Tsanakas, A., & Wüthrich, M. (2022). Discrimination-Free Insurance Pricing. ASTIN Bulletin, 52(1), 55-89. doi:10.1017/asb.2021.23."
      ]
    },
    {
      "cell_type": "markdown",
      "metadata": {
        "id": "gwF0-6vJcQFT"
      },
      "source": [
        "Ninareh Mehrabi, Fred Morstatter, Nripsuta Saxena, Kristina Lerman, and Aram Galstyan. (2021). A Survey on Bias and Fairness in Machine Learning. ACM Comput. Surv. 54, 6, Article 115 (July 2022), 35 pages. doi:10.1145/3457607.\n"
      ]
    },
    {
      "cell_type": "markdown",
      "metadata": {
        "id": "-y_12OeWcQFU"
      },
      "source": [
        "Xin, Xi and Huang, Fei. Anti-Discrimination Insurance Pricing: Regulations, Fairness Criteria, and Models. (2022). doi:10.2139/ssrn.3850420."
      ]
    },
    {
      "cell_type": "markdown",
      "metadata": {
        "id": "F-gmA8sXcQFU"
      },
      "source": [
        "Dwork, Cynthia, Moritz Hardt, Toniann Pitassi, Omer Reingold, and Richard Zemel (2012). Fairness through awareness. In: Proceedings of the 3rd innovations in theoretical computer science conference, pp. 214-226."
      ]
    },
    {
      "cell_type": "markdown",
      "metadata": {
        "id": "EDx4v6HmcQFU"
      },
      "source": [
        "Zemel, Rich, Yu Wu, Kevin Swersky, Toni Pitassi, and Cynthia Dwork (2013). Learning fair representations. In: International conference on machine learning. PMLR, pp. 325-333."
      ]
    },
    {
      "cell_type": "markdown",
      "metadata": {
        "id": "ztxAF4sKcQFU"
      },
      "source": [
        "Matt Kusner, Joshua Loftus, Chris Russell, and Ricardo Silva. (2017). Counterfactual fairness. In Proceedings of the 31st International Conference on Neural Information Processing Systems (NIPS'17). Curran Associates Inc., Red Hook, NY, USA, 4069–4079."
      ]
    },
    {
      "cell_type": "markdown",
      "metadata": {
        "id": "ThAQy8H_PJgO"
      },
      "source": [
        "Kranzberg, M. (1986). Technology and History: “Kranzberg’s Laws.” Technology and Culture, 27(3), 544–560. doi:10.2307/3105385."
      ]
    }
  ],
  "metadata": {
    "colab": {
      "collapsed_sections": [],
      "name": "computer_lab_4_discr_free.ipynb",
      "provenance": [],
      "toc_visible": true
    },
    "kernelspec": {
      "display_name": "Python 3 (ipykernel)",
      "language": "python",
      "name": "python3"
    },
    "language_info": {
      "codemirror_mode": {
        "name": "ipython",
        "version": 3
      },
      "file_extension": ".py",
      "mimetype": "text/x-python",
      "name": "python",
      "nbconvert_exporter": "python",
      "pygments_lexer": "ipython3",
      "version": "3.8.13"
    },
    "toc-autonumbering": false,
    "toc-showcode": false,
    "toc-showmarkdowntxt": false
  },
  "nbformat": 4,
  "nbformat_minor": 0
}